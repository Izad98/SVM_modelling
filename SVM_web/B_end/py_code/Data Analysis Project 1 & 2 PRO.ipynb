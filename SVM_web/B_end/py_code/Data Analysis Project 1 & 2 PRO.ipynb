{
 "cells": [
  {
   "cell_type": "code",
   "execution_count": 1,
   "id": "4eaaa2de",
   "metadata": {},
   "outputs": [],
   "source": [
    "import pandas as pd\n",
    "import numpy as np\n",
    "from sklearn.model_selection import train_test_split\n",
    "from scipy import stats\n",
    "import seaborn as sns\n",
    "import matplotlib.pyplot as plt\n",
    "from pycorrcat.pycorrcat import plot_corr, corr_matrix\n",
    "from sklearn.linear_model import LogisticRegression #This is for logistic regression\n",
    "from sklearn.metrics import confusion_matrix, accuracy_score,classification_report,roc_curve,roc_auc_score #Metrics for classification\n",
    "from imblearn.over_sampling import SMOTE,ADASYN\n",
    "from sklearn.linear_model import RidgeClassifier\n",
    "from sklearn.ensemble import BaggingClassifier\n",
    "from sklearn.ensemble import RandomForestClassifier,ExtraTreesClassifier\n",
    "from sklearn.ensemble import AdaBoostClassifier,GradientBoostingClassifier\n",
    "from sklearn.neighbors import KNeighborsClassifier\n",
    "from sklearn import svm\n",
    "from sklearn.svm import SVC\n",
    "from sklearn.metrics import confusion_matrix,accuracy_score,classification_report,roc_curve,roc_auc_score\n",
    "from sklearn.discriminant_analysis import LinearDiscriminantAnalysis, QuadraticDiscriminantAnalysis #LDA,QDA\n",
    "from sklearn.naive_bayes import GaussianNB #Naive Bayes\n",
    "from sklearn.datasets import make_classification\n",
    "from imblearn.over_sampling import RandomOverSampler\n",
    "from imblearn.under_sampling import RandomUnderSampler\n",
    "from collections import Counter\n",
    "from sklearn.model_selection import GridSearchCV,RandomizedSearchCV\n",
    "from sklearn.model_selection import KFold\n",
    "import xgboost as xgb\n",
    "from sklearn.metrics import mean_squared_error\n",
    "from sklearn.model_selection import RepeatedStratifiedKFold\n",
    "from sklearn.model_selection import GridSearchCV\n",
    "from sklearn.linear_model import LogisticRegression\n",
    "from sklearn.preprocessing import LabelEncoder,OneHotEncoder,StandardScaler"
   ]
  },
  {
   "cell_type": "code",
   "execution_count": 2,
   "id": "b177db7d",
   "metadata": {},
   "outputs": [],
   "source": [
    "#import pip\n",
    "#pip.main([\"install\",\"xgboost\"])"
   ]
  },
  {
   "cell_type": "code",
   "execution_count": 3,
   "id": "e43226b2",
   "metadata": {},
   "outputs": [],
   "source": [
    "#import pip\n",
    "#pip.main([\"install\",\"pycorr\"])"
   ]
  },
  {
   "cell_type": "code",
   "execution_count": 4,
   "id": "d4957f39",
   "metadata": {},
   "outputs": [],
   "source": [
    "df=pd.read_csv(\"C:\\\\Users\\\\User\\\\Desktop\\\\Data Analysis 1\\\\aug_train.CSV\")"
   ]
  },
  {
   "cell_type": "code",
   "execution_count": 5,
   "id": "c28e9bad",
   "metadata": {
    "scrolled": true
   },
   "outputs": [
    {
     "data": {
      "text/html": [
       "<div>\n",
       "<style scoped>\n",
       "    .dataframe tbody tr th:only-of-type {\n",
       "        vertical-align: middle;\n",
       "    }\n",
       "\n",
       "    .dataframe tbody tr th {\n",
       "        vertical-align: top;\n",
       "    }\n",
       "\n",
       "    .dataframe thead th {\n",
       "        text-align: right;\n",
       "    }\n",
       "</style>\n",
       "<table border=\"1\" class=\"dataframe\">\n",
       "  <thead>\n",
       "    <tr style=\"text-align: right;\">\n",
       "      <th></th>\n",
       "      <th>enrollee_id</th>\n",
       "      <th>city</th>\n",
       "      <th>city_development_index</th>\n",
       "      <th>gender</th>\n",
       "      <th>relevent_experience</th>\n",
       "      <th>enrolled_university</th>\n",
       "      <th>education_level</th>\n",
       "      <th>major_discipline</th>\n",
       "      <th>experience</th>\n",
       "      <th>company_size</th>\n",
       "      <th>company_type</th>\n",
       "      <th>last_new_job</th>\n",
       "      <th>training_hours</th>\n",
       "      <th>target</th>\n",
       "    </tr>\n",
       "  </thead>\n",
       "  <tbody>\n",
       "    <tr>\n",
       "      <th>0</th>\n",
       "      <td>8949</td>\n",
       "      <td>city_103</td>\n",
       "      <td>0.920</td>\n",
       "      <td>Male</td>\n",
       "      <td>Has relevent experience</td>\n",
       "      <td>no_enrollment</td>\n",
       "      <td>Graduate</td>\n",
       "      <td>STEM</td>\n",
       "      <td>&gt;20</td>\n",
       "      <td>NaN</td>\n",
       "      <td>NaN</td>\n",
       "      <td>1</td>\n",
       "      <td>36</td>\n",
       "      <td>1</td>\n",
       "    </tr>\n",
       "    <tr>\n",
       "      <th>1</th>\n",
       "      <td>29725</td>\n",
       "      <td>city_40</td>\n",
       "      <td>0.776</td>\n",
       "      <td>Male</td>\n",
       "      <td>No relevent experience</td>\n",
       "      <td>no_enrollment</td>\n",
       "      <td>Graduate</td>\n",
       "      <td>STEM</td>\n",
       "      <td>15</td>\n",
       "      <td>50-99</td>\n",
       "      <td>Pvt Ltd</td>\n",
       "      <td>&gt;4</td>\n",
       "      <td>47</td>\n",
       "      <td>0</td>\n",
       "    </tr>\n",
       "    <tr>\n",
       "      <th>2</th>\n",
       "      <td>11561</td>\n",
       "      <td>city_21</td>\n",
       "      <td>0.624</td>\n",
       "      <td>NaN</td>\n",
       "      <td>No relevent experience</td>\n",
       "      <td>Full time course</td>\n",
       "      <td>Graduate</td>\n",
       "      <td>STEM</td>\n",
       "      <td>5</td>\n",
       "      <td>NaN</td>\n",
       "      <td>NaN</td>\n",
       "      <td>never</td>\n",
       "      <td>83</td>\n",
       "      <td>0</td>\n",
       "    </tr>\n",
       "    <tr>\n",
       "      <th>3</th>\n",
       "      <td>33241</td>\n",
       "      <td>city_115</td>\n",
       "      <td>0.789</td>\n",
       "      <td>NaN</td>\n",
       "      <td>No relevent experience</td>\n",
       "      <td>NaN</td>\n",
       "      <td>Graduate</td>\n",
       "      <td>Business Degree</td>\n",
       "      <td>&lt;1</td>\n",
       "      <td>NaN</td>\n",
       "      <td>Pvt Ltd</td>\n",
       "      <td>never</td>\n",
       "      <td>52</td>\n",
       "      <td>1</td>\n",
       "    </tr>\n",
       "    <tr>\n",
       "      <th>4</th>\n",
       "      <td>666</td>\n",
       "      <td>city_162</td>\n",
       "      <td>0.767</td>\n",
       "      <td>Male</td>\n",
       "      <td>Has relevent experience</td>\n",
       "      <td>no_enrollment</td>\n",
       "      <td>Masters</td>\n",
       "      <td>STEM</td>\n",
       "      <td>&gt;20</td>\n",
       "      <td>50-99</td>\n",
       "      <td>Funded Startup</td>\n",
       "      <td>4</td>\n",
       "      <td>8</td>\n",
       "      <td>0</td>\n",
       "    </tr>\n",
       "  </tbody>\n",
       "</table>\n",
       "</div>"
      ],
      "text/plain": [
       "   enrollee_id      city  city_development_index gender  \\\n",
       "0         8949  city_103                   0.920   Male   \n",
       "1        29725   city_40                   0.776   Male   \n",
       "2        11561   city_21                   0.624    NaN   \n",
       "3        33241  city_115                   0.789    NaN   \n",
       "4          666  city_162                   0.767   Male   \n",
       "\n",
       "       relevent_experience enrolled_university education_level  \\\n",
       "0  Has relevent experience       no_enrollment        Graduate   \n",
       "1   No relevent experience       no_enrollment        Graduate   \n",
       "2   No relevent experience    Full time course        Graduate   \n",
       "3   No relevent experience                 NaN        Graduate   \n",
       "4  Has relevent experience       no_enrollment         Masters   \n",
       "\n",
       "  major_discipline experience company_size    company_type last_new_job  \\\n",
       "0             STEM        >20          NaN             NaN            1   \n",
       "1             STEM         15        50-99         Pvt Ltd           >4   \n",
       "2             STEM          5          NaN             NaN        never   \n",
       "3  Business Degree         <1          NaN         Pvt Ltd        never   \n",
       "4             STEM        >20        50-99  Funded Startup            4   \n",
       "\n",
       "   training_hours  target  \n",
       "0              36       1  \n",
       "1              47       0  \n",
       "2              83       0  \n",
       "3              52       1  \n",
       "4               8       0  "
      ]
     },
     "execution_count": 5,
     "metadata": {},
     "output_type": "execute_result"
    }
   ],
   "source": [
    "df.head()"
   ]
  },
  {
   "cell_type": "code",
   "execution_count": 6,
   "id": "c2bfc41a",
   "metadata": {
    "scrolled": true
   },
   "outputs": [
    {
     "data": {
      "text/html": [
       "<div>\n",
       "<style scoped>\n",
       "    .dataframe tbody tr th:only-of-type {\n",
       "        vertical-align: middle;\n",
       "    }\n",
       "\n",
       "    .dataframe tbody tr th {\n",
       "        vertical-align: top;\n",
       "    }\n",
       "\n",
       "    .dataframe thead th {\n",
       "        text-align: right;\n",
       "    }\n",
       "</style>\n",
       "<table border=\"1\" class=\"dataframe\">\n",
       "  <thead>\n",
       "    <tr style=\"text-align: right;\">\n",
       "      <th></th>\n",
       "      <th>city</th>\n",
       "      <th>city_development_index</th>\n",
       "      <th>gender</th>\n",
       "      <th>relevent_experience</th>\n",
       "      <th>enrolled_university</th>\n",
       "      <th>education_level</th>\n",
       "      <th>major_discipline</th>\n",
       "      <th>experience</th>\n",
       "      <th>company_size</th>\n",
       "      <th>company_type</th>\n",
       "      <th>last_new_job</th>\n",
       "      <th>training_hours</th>\n",
       "      <th>target</th>\n",
       "    </tr>\n",
       "  </thead>\n",
       "  <tbody>\n",
       "    <tr>\n",
       "      <th>0</th>\n",
       "      <td>city_103</td>\n",
       "      <td>0.920</td>\n",
       "      <td>Male</td>\n",
       "      <td>Has relevent experience</td>\n",
       "      <td>no_enrollment</td>\n",
       "      <td>Graduate</td>\n",
       "      <td>STEM</td>\n",
       "      <td>&gt;20</td>\n",
       "      <td>NaN</td>\n",
       "      <td>NaN</td>\n",
       "      <td>1</td>\n",
       "      <td>36</td>\n",
       "      <td>1</td>\n",
       "    </tr>\n",
       "    <tr>\n",
       "      <th>1</th>\n",
       "      <td>city_40</td>\n",
       "      <td>0.776</td>\n",
       "      <td>Male</td>\n",
       "      <td>No relevent experience</td>\n",
       "      <td>no_enrollment</td>\n",
       "      <td>Graduate</td>\n",
       "      <td>STEM</td>\n",
       "      <td>15</td>\n",
       "      <td>50-99</td>\n",
       "      <td>Pvt Ltd</td>\n",
       "      <td>&gt;4</td>\n",
       "      <td>47</td>\n",
       "      <td>0</td>\n",
       "    </tr>\n",
       "    <tr>\n",
       "      <th>2</th>\n",
       "      <td>city_21</td>\n",
       "      <td>0.624</td>\n",
       "      <td>NaN</td>\n",
       "      <td>No relevent experience</td>\n",
       "      <td>Full time course</td>\n",
       "      <td>Graduate</td>\n",
       "      <td>STEM</td>\n",
       "      <td>5</td>\n",
       "      <td>NaN</td>\n",
       "      <td>NaN</td>\n",
       "      <td>never</td>\n",
       "      <td>83</td>\n",
       "      <td>0</td>\n",
       "    </tr>\n",
       "    <tr>\n",
       "      <th>3</th>\n",
       "      <td>city_115</td>\n",
       "      <td>0.789</td>\n",
       "      <td>NaN</td>\n",
       "      <td>No relevent experience</td>\n",
       "      <td>NaN</td>\n",
       "      <td>Graduate</td>\n",
       "      <td>Business Degree</td>\n",
       "      <td>&lt;1</td>\n",
       "      <td>NaN</td>\n",
       "      <td>Pvt Ltd</td>\n",
       "      <td>never</td>\n",
       "      <td>52</td>\n",
       "      <td>1</td>\n",
       "    </tr>\n",
       "    <tr>\n",
       "      <th>4</th>\n",
       "      <td>city_162</td>\n",
       "      <td>0.767</td>\n",
       "      <td>Male</td>\n",
       "      <td>Has relevent experience</td>\n",
       "      <td>no_enrollment</td>\n",
       "      <td>Masters</td>\n",
       "      <td>STEM</td>\n",
       "      <td>&gt;20</td>\n",
       "      <td>50-99</td>\n",
       "      <td>Funded Startup</td>\n",
       "      <td>4</td>\n",
       "      <td>8</td>\n",
       "      <td>0</td>\n",
       "    </tr>\n",
       "  </tbody>\n",
       "</table>\n",
       "</div>"
      ],
      "text/plain": [
       "       city  city_development_index gender      relevent_experience  \\\n",
       "0  city_103                   0.920   Male  Has relevent experience   \n",
       "1   city_40                   0.776   Male   No relevent experience   \n",
       "2   city_21                   0.624    NaN   No relevent experience   \n",
       "3  city_115                   0.789    NaN   No relevent experience   \n",
       "4  city_162                   0.767   Male  Has relevent experience   \n",
       "\n",
       "  enrolled_university education_level major_discipline experience  \\\n",
       "0       no_enrollment        Graduate             STEM        >20   \n",
       "1       no_enrollment        Graduate             STEM         15   \n",
       "2    Full time course        Graduate             STEM          5   \n",
       "3                 NaN        Graduate  Business Degree         <1   \n",
       "4       no_enrollment         Masters             STEM        >20   \n",
       "\n",
       "  company_size    company_type last_new_job  training_hours  target  \n",
       "0          NaN             NaN            1              36       1  \n",
       "1        50-99         Pvt Ltd           >4              47       0  \n",
       "2          NaN             NaN        never              83       0  \n",
       "3          NaN         Pvt Ltd        never              52       1  \n",
       "4        50-99  Funded Startup            4               8       0  "
      ]
     },
     "execution_count": 6,
     "metadata": {},
     "output_type": "execute_result"
    }
   ],
   "source": [
    "df_new=df.drop(\"enrollee_id\",axis=1) # Since enrolle_id is meaningless feature, it is removed from the dataframe \n",
    "df_new.head()"
   ]
  },
  {
   "cell_type": "code",
   "execution_count": 7,
   "id": "c0a95c38",
   "metadata": {},
   "outputs": [
    {
     "data": {
      "text/plain": [
       "49"
      ]
     },
     "execution_count": 7,
     "metadata": {},
     "output_type": "execute_result"
    }
   ],
   "source": [
    "df_new.duplicated().sum() # Are there any duplicated rows? "
   ]
  },
  {
   "cell_type": "code",
   "execution_count": 8,
   "id": "156e98be",
   "metadata": {},
   "outputs": [
    {
     "data": {
      "text/html": [
       "<div>\n",
       "<style scoped>\n",
       "    .dataframe tbody tr th:only-of-type {\n",
       "        vertical-align: middle;\n",
       "    }\n",
       "\n",
       "    .dataframe tbody tr th {\n",
       "        vertical-align: top;\n",
       "    }\n",
       "\n",
       "    .dataframe thead th {\n",
       "        text-align: right;\n",
       "    }\n",
       "</style>\n",
       "<table border=\"1\" class=\"dataframe\">\n",
       "  <thead>\n",
       "    <tr style=\"text-align: right;\">\n",
       "      <th></th>\n",
       "      <th>city</th>\n",
       "      <th>city_development_index</th>\n",
       "      <th>gender</th>\n",
       "      <th>relevent_experience</th>\n",
       "      <th>enrolled_university</th>\n",
       "      <th>education_level</th>\n",
       "      <th>major_discipline</th>\n",
       "      <th>experience</th>\n",
       "      <th>company_size</th>\n",
       "      <th>company_type</th>\n",
       "      <th>last_new_job</th>\n",
       "      <th>training_hours</th>\n",
       "      <th>target</th>\n",
       "    </tr>\n",
       "  </thead>\n",
       "  <tbody>\n",
       "    <tr>\n",
       "      <th>0</th>\n",
       "      <td>city_103</td>\n",
       "      <td>0.920</td>\n",
       "      <td>Male</td>\n",
       "      <td>Has relevent experience</td>\n",
       "      <td>no_enrollment</td>\n",
       "      <td>Graduate</td>\n",
       "      <td>STEM</td>\n",
       "      <td>&gt;20</td>\n",
       "      <td>NaN</td>\n",
       "      <td>NaN</td>\n",
       "      <td>1</td>\n",
       "      <td>36</td>\n",
       "      <td>1</td>\n",
       "    </tr>\n",
       "    <tr>\n",
       "      <th>1</th>\n",
       "      <td>city_40</td>\n",
       "      <td>0.776</td>\n",
       "      <td>Male</td>\n",
       "      <td>No relevent experience</td>\n",
       "      <td>no_enrollment</td>\n",
       "      <td>Graduate</td>\n",
       "      <td>STEM</td>\n",
       "      <td>15</td>\n",
       "      <td>50-99</td>\n",
       "      <td>Pvt Ltd</td>\n",
       "      <td>&gt;4</td>\n",
       "      <td>47</td>\n",
       "      <td>0</td>\n",
       "    </tr>\n",
       "    <tr>\n",
       "      <th>2</th>\n",
       "      <td>city_21</td>\n",
       "      <td>0.624</td>\n",
       "      <td>NaN</td>\n",
       "      <td>No relevent experience</td>\n",
       "      <td>Full time course</td>\n",
       "      <td>Graduate</td>\n",
       "      <td>STEM</td>\n",
       "      <td>5</td>\n",
       "      <td>NaN</td>\n",
       "      <td>NaN</td>\n",
       "      <td>never</td>\n",
       "      <td>83</td>\n",
       "      <td>0</td>\n",
       "    </tr>\n",
       "    <tr>\n",
       "      <th>3</th>\n",
       "      <td>city_115</td>\n",
       "      <td>0.789</td>\n",
       "      <td>NaN</td>\n",
       "      <td>No relevent experience</td>\n",
       "      <td>NaN</td>\n",
       "      <td>Graduate</td>\n",
       "      <td>Business Degree</td>\n",
       "      <td>&lt;1</td>\n",
       "      <td>NaN</td>\n",
       "      <td>Pvt Ltd</td>\n",
       "      <td>never</td>\n",
       "      <td>52</td>\n",
       "      <td>1</td>\n",
       "    </tr>\n",
       "    <tr>\n",
       "      <th>4</th>\n",
       "      <td>city_162</td>\n",
       "      <td>0.767</td>\n",
       "      <td>Male</td>\n",
       "      <td>Has relevent experience</td>\n",
       "      <td>no_enrollment</td>\n",
       "      <td>Masters</td>\n",
       "      <td>STEM</td>\n",
       "      <td>&gt;20</td>\n",
       "      <td>50-99</td>\n",
       "      <td>Funded Startup</td>\n",
       "      <td>4</td>\n",
       "      <td>8</td>\n",
       "      <td>0</td>\n",
       "    </tr>\n",
       "  </tbody>\n",
       "</table>\n",
       "</div>"
      ],
      "text/plain": [
       "       city  city_development_index gender      relevent_experience  \\\n",
       "0  city_103                   0.920   Male  Has relevent experience   \n",
       "1   city_40                   0.776   Male   No relevent experience   \n",
       "2   city_21                   0.624    NaN   No relevent experience   \n",
       "3  city_115                   0.789    NaN   No relevent experience   \n",
       "4  city_162                   0.767   Male  Has relevent experience   \n",
       "\n",
       "  enrolled_university education_level major_discipline experience  \\\n",
       "0       no_enrollment        Graduate             STEM        >20   \n",
       "1       no_enrollment        Graduate             STEM         15   \n",
       "2    Full time course        Graduate             STEM          5   \n",
       "3                 NaN        Graduate  Business Degree         <1   \n",
       "4       no_enrollment         Masters             STEM        >20   \n",
       "\n",
       "  company_size    company_type last_new_job  training_hours  target  \n",
       "0          NaN             NaN            1              36       1  \n",
       "1        50-99         Pvt Ltd           >4              47       0  \n",
       "2          NaN             NaN        never              83       0  \n",
       "3          NaN         Pvt Ltd        never              52       1  \n",
       "4        50-99  Funded Startup            4               8       0  "
      ]
     },
     "execution_count": 8,
     "metadata": {},
     "output_type": "execute_result"
    }
   ],
   "source": [
    "df_new.drop_duplicates(inplace=True)\n",
    "df_new.head()"
   ]
  },
  {
   "cell_type": "code",
   "execution_count": 9,
   "id": "f2ecfc10",
   "metadata": {},
   "outputs": [
    {
     "data": {
      "text/plain": [
       "0"
      ]
     },
     "execution_count": 9,
     "metadata": {},
     "output_type": "execute_result"
    }
   ],
   "source": [
    "df_new.duplicated().sum()"
   ]
  },
  {
   "cell_type": "code",
   "execution_count": 10,
   "id": "afdd86d4",
   "metadata": {},
   "outputs": [
    {
     "data": {
      "text/plain": [
       "19109"
      ]
     },
     "execution_count": 10,
     "metadata": {},
     "output_type": "execute_result"
    }
   ],
   "source": [
    "len(df_new)"
   ]
  },
  {
   "cell_type": "code",
   "execution_count": 11,
   "id": "f275e5f7",
   "metadata": {},
   "outputs": [],
   "source": [
    "x=df_new.iloc[:,:12] #upto the 12 without 12\n",
    "y=df_new.iloc[:,12]"
   ]
  },
  {
   "cell_type": "code",
   "execution_count": 12,
   "id": "11374cce",
   "metadata": {},
   "outputs": [
    {
     "data": {
      "text/html": [
       "<div>\n",
       "<style scoped>\n",
       "    .dataframe tbody tr th:only-of-type {\n",
       "        vertical-align: middle;\n",
       "    }\n",
       "\n",
       "    .dataframe tbody tr th {\n",
       "        vertical-align: top;\n",
       "    }\n",
       "\n",
       "    .dataframe thead th {\n",
       "        text-align: right;\n",
       "    }\n",
       "</style>\n",
       "<table border=\"1\" class=\"dataframe\">\n",
       "  <thead>\n",
       "    <tr style=\"text-align: right;\">\n",
       "      <th></th>\n",
       "      <th>city</th>\n",
       "      <th>city_development_index</th>\n",
       "      <th>gender</th>\n",
       "      <th>relevent_experience</th>\n",
       "      <th>enrolled_university</th>\n",
       "      <th>education_level</th>\n",
       "      <th>major_discipline</th>\n",
       "      <th>experience</th>\n",
       "      <th>company_size</th>\n",
       "      <th>company_type</th>\n",
       "      <th>last_new_job</th>\n",
       "      <th>training_hours</th>\n",
       "    </tr>\n",
       "  </thead>\n",
       "  <tbody>\n",
       "    <tr>\n",
       "      <th>0</th>\n",
       "      <td>city_103</td>\n",
       "      <td>0.920</td>\n",
       "      <td>Male</td>\n",
       "      <td>Has relevent experience</td>\n",
       "      <td>no_enrollment</td>\n",
       "      <td>Graduate</td>\n",
       "      <td>STEM</td>\n",
       "      <td>&gt;20</td>\n",
       "      <td>NaN</td>\n",
       "      <td>NaN</td>\n",
       "      <td>1</td>\n",
       "      <td>36</td>\n",
       "    </tr>\n",
       "    <tr>\n",
       "      <th>1</th>\n",
       "      <td>city_40</td>\n",
       "      <td>0.776</td>\n",
       "      <td>Male</td>\n",
       "      <td>No relevent experience</td>\n",
       "      <td>no_enrollment</td>\n",
       "      <td>Graduate</td>\n",
       "      <td>STEM</td>\n",
       "      <td>15</td>\n",
       "      <td>50-99</td>\n",
       "      <td>Pvt Ltd</td>\n",
       "      <td>&gt;4</td>\n",
       "      <td>47</td>\n",
       "    </tr>\n",
       "    <tr>\n",
       "      <th>2</th>\n",
       "      <td>city_21</td>\n",
       "      <td>0.624</td>\n",
       "      <td>NaN</td>\n",
       "      <td>No relevent experience</td>\n",
       "      <td>Full time course</td>\n",
       "      <td>Graduate</td>\n",
       "      <td>STEM</td>\n",
       "      <td>5</td>\n",
       "      <td>NaN</td>\n",
       "      <td>NaN</td>\n",
       "      <td>never</td>\n",
       "      <td>83</td>\n",
       "    </tr>\n",
       "    <tr>\n",
       "      <th>3</th>\n",
       "      <td>city_115</td>\n",
       "      <td>0.789</td>\n",
       "      <td>NaN</td>\n",
       "      <td>No relevent experience</td>\n",
       "      <td>NaN</td>\n",
       "      <td>Graduate</td>\n",
       "      <td>Business Degree</td>\n",
       "      <td>&lt;1</td>\n",
       "      <td>NaN</td>\n",
       "      <td>Pvt Ltd</td>\n",
       "      <td>never</td>\n",
       "      <td>52</td>\n",
       "    </tr>\n",
       "    <tr>\n",
       "      <th>4</th>\n",
       "      <td>city_162</td>\n",
       "      <td>0.767</td>\n",
       "      <td>Male</td>\n",
       "      <td>Has relevent experience</td>\n",
       "      <td>no_enrollment</td>\n",
       "      <td>Masters</td>\n",
       "      <td>STEM</td>\n",
       "      <td>&gt;20</td>\n",
       "      <td>50-99</td>\n",
       "      <td>Funded Startup</td>\n",
       "      <td>4</td>\n",
       "      <td>8</td>\n",
       "    </tr>\n",
       "  </tbody>\n",
       "</table>\n",
       "</div>"
      ],
      "text/plain": [
       "       city  city_development_index gender      relevent_experience  \\\n",
       "0  city_103                   0.920   Male  Has relevent experience   \n",
       "1   city_40                   0.776   Male   No relevent experience   \n",
       "2   city_21                   0.624    NaN   No relevent experience   \n",
       "3  city_115                   0.789    NaN   No relevent experience   \n",
       "4  city_162                   0.767   Male  Has relevent experience   \n",
       "\n",
       "  enrolled_university education_level major_discipline experience  \\\n",
       "0       no_enrollment        Graduate             STEM        >20   \n",
       "1       no_enrollment        Graduate             STEM         15   \n",
       "2    Full time course        Graduate             STEM          5   \n",
       "3                 NaN        Graduate  Business Degree         <1   \n",
       "4       no_enrollment         Masters             STEM        >20   \n",
       "\n",
       "  company_size    company_type last_new_job  training_hours  \n",
       "0          NaN             NaN            1              36  \n",
       "1        50-99         Pvt Ltd           >4              47  \n",
       "2          NaN             NaN        never              83  \n",
       "3          NaN         Pvt Ltd        never              52  \n",
       "4        50-99  Funded Startup            4               8  "
      ]
     },
     "execution_count": 12,
     "metadata": {},
     "output_type": "execute_result"
    }
   ],
   "source": [
    "x.head()"
   ]
  },
  {
   "cell_type": "code",
   "execution_count": 13,
   "id": "94273ae2",
   "metadata": {},
   "outputs": [
    {
     "data": {
      "text/plain": [
       "0    1\n",
       "1    0\n",
       "2    0\n",
       "3    1\n",
       "4    0\n",
       "Name: target, dtype: int64"
      ]
     },
     "execution_count": 13,
     "metadata": {},
     "output_type": "execute_result"
    }
   ],
   "source": [
    "y.head()"
   ]
  },
  {
   "cell_type": "code",
   "execution_count": 14,
   "id": "1899d9a2",
   "metadata": {},
   "outputs": [],
   "source": [
    "x_train,x_test,y_train,y_test=train_test_split(x,y,test_size=0.2,random_state=0)"
   ]
  },
  {
   "cell_type": "code",
   "execution_count": 15,
   "id": "1e0ff8b2",
   "metadata": {},
   "outputs": [
    {
     "data": {
      "text/html": [
       "<div>\n",
       "<style scoped>\n",
       "    .dataframe tbody tr th:only-of-type {\n",
       "        vertical-align: middle;\n",
       "    }\n",
       "\n",
       "    .dataframe tbody tr th {\n",
       "        vertical-align: top;\n",
       "    }\n",
       "\n",
       "    .dataframe thead th {\n",
       "        text-align: right;\n",
       "    }\n",
       "</style>\n",
       "<table border=\"1\" class=\"dataframe\">\n",
       "  <thead>\n",
       "    <tr style=\"text-align: right;\">\n",
       "      <th></th>\n",
       "      <th>city</th>\n",
       "      <th>city_development_index</th>\n",
       "      <th>gender</th>\n",
       "      <th>relevent_experience</th>\n",
       "      <th>enrolled_university</th>\n",
       "      <th>education_level</th>\n",
       "      <th>major_discipline</th>\n",
       "      <th>experience</th>\n",
       "      <th>company_size</th>\n",
       "      <th>company_type</th>\n",
       "      <th>last_new_job</th>\n",
       "      <th>training_hours</th>\n",
       "    </tr>\n",
       "  </thead>\n",
       "  <tbody>\n",
       "    <tr>\n",
       "      <th>17667</th>\n",
       "      <td>city_21</td>\n",
       "      <td>0.624</td>\n",
       "      <td>Male</td>\n",
       "      <td>Has relevent experience</td>\n",
       "      <td>no_enrollment</td>\n",
       "      <td>Masters</td>\n",
       "      <td>STEM</td>\n",
       "      <td>6</td>\n",
       "      <td>10000+</td>\n",
       "      <td>NaN</td>\n",
       "      <td>1</td>\n",
       "      <td>10</td>\n",
       "    </tr>\n",
       "    <tr>\n",
       "      <th>9788</th>\n",
       "      <td>city_21</td>\n",
       "      <td>0.624</td>\n",
       "      <td>Male</td>\n",
       "      <td>Has relevent experience</td>\n",
       "      <td>no_enrollment</td>\n",
       "      <td>Graduate</td>\n",
       "      <td>STEM</td>\n",
       "      <td>6</td>\n",
       "      <td>10000+</td>\n",
       "      <td>Pvt Ltd</td>\n",
       "      <td>1</td>\n",
       "      <td>55</td>\n",
       "    </tr>\n",
       "    <tr>\n",
       "      <th>8768</th>\n",
       "      <td>city_71</td>\n",
       "      <td>0.884</td>\n",
       "      <td>Male</td>\n",
       "      <td>Has relevent experience</td>\n",
       "      <td>no_enrollment</td>\n",
       "      <td>High School</td>\n",
       "      <td>NaN</td>\n",
       "      <td>19</td>\n",
       "      <td>&lt;10</td>\n",
       "      <td>Pvt Ltd</td>\n",
       "      <td>2</td>\n",
       "      <td>7</td>\n",
       "    </tr>\n",
       "    <tr>\n",
       "      <th>15190</th>\n",
       "      <td>city_23</td>\n",
       "      <td>0.899</td>\n",
       "      <td>NaN</td>\n",
       "      <td>Has relevent experience</td>\n",
       "      <td>Part time course</td>\n",
       "      <td>Graduate</td>\n",
       "      <td>STEM</td>\n",
       "      <td>5</td>\n",
       "      <td>50-99</td>\n",
       "      <td>Public Sector</td>\n",
       "      <td>&gt;4</td>\n",
       "      <td>46</td>\n",
       "    </tr>\n",
       "    <tr>\n",
       "      <th>7722</th>\n",
       "      <td>city_136</td>\n",
       "      <td>0.897</td>\n",
       "      <td>Male</td>\n",
       "      <td>Has relevent experience</td>\n",
       "      <td>no_enrollment</td>\n",
       "      <td>Masters</td>\n",
       "      <td>STEM</td>\n",
       "      <td>8</td>\n",
       "      <td>100-500</td>\n",
       "      <td>NaN</td>\n",
       "      <td>1</td>\n",
       "      <td>24</td>\n",
       "    </tr>\n",
       "  </tbody>\n",
       "</table>\n",
       "</div>"
      ],
      "text/plain": [
       "           city  city_development_index gender      relevent_experience  \\\n",
       "17667   city_21                   0.624   Male  Has relevent experience   \n",
       "9788    city_21                   0.624   Male  Has relevent experience   \n",
       "8768    city_71                   0.884   Male  Has relevent experience   \n",
       "15190   city_23                   0.899    NaN  Has relevent experience   \n",
       "7722   city_136                   0.897   Male  Has relevent experience   \n",
       "\n",
       "      enrolled_university education_level major_discipline experience  \\\n",
       "17667       no_enrollment         Masters             STEM          6   \n",
       "9788        no_enrollment        Graduate             STEM          6   \n",
       "8768        no_enrollment     High School              NaN         19   \n",
       "15190    Part time course        Graduate             STEM          5   \n",
       "7722        no_enrollment         Masters             STEM          8   \n",
       "\n",
       "      company_size   company_type last_new_job  training_hours  \n",
       "17667       10000+            NaN            1              10  \n",
       "9788        10000+        Pvt Ltd            1              55  \n",
       "8768           <10        Pvt Ltd            2               7  \n",
       "15190        50-99  Public Sector           >4              46  \n",
       "7722       100-500            NaN            1              24  "
      ]
     },
     "execution_count": 15,
     "metadata": {},
     "output_type": "execute_result"
    }
   ],
   "source": [
    "x_train.head()"
   ]
  },
  {
   "cell_type": "markdown",
   "id": "c374e15b",
   "metadata": {},
   "source": [
    "\n",
    "# Data Cleaning\n"
   ]
  },
  {
   "cell_type": "code",
   "execution_count": 16,
   "id": "e1168ce6",
   "metadata": {},
   "outputs": [
    {
     "data": {
      "text/plain": [
       "city                      False\n",
       "city_development_index    False\n",
       "gender                     True\n",
       "relevent_experience       False\n",
       "enrolled_university        True\n",
       "education_level            True\n",
       "major_discipline           True\n",
       "experience                 True\n",
       "company_size               True\n",
       "company_type               True\n",
       "last_new_job               True\n",
       "training_hours            False\n",
       "dtype: bool"
      ]
     },
     "execution_count": 16,
     "metadata": {},
     "output_type": "execute_result"
    }
   ],
   "source": [
    "x_train.isna().any() # Are there any missing values in each coloumn?"
   ]
  },
  {
   "cell_type": "code",
   "execution_count": 17,
   "id": "2f4ff0ae",
   "metadata": {},
   "outputs": [
    {
     "data": {
      "text/plain": [
       "False"
      ]
     },
     "execution_count": 17,
     "metadata": {},
     "output_type": "execute_result"
    }
   ],
   "source": [
    "y_train.isna().any()"
   ]
  },
  {
   "cell_type": "code",
   "execution_count": 18,
   "id": "2c0f97a9",
   "metadata": {
    "scrolled": true
   },
   "outputs": [
    {
     "data": {
      "text/plain": [
       "city                         0\n",
       "city_development_index       0\n",
       "gender                    3629\n",
       "relevent_experience          0\n",
       "enrolled_university        315\n",
       "education_level            382\n",
       "major_discipline          2274\n",
       "experience                  53\n",
       "company_size              4746\n",
       "company_type              4912\n",
       "last_new_job               350\n",
       "training_hours               0\n",
       "dtype: int64"
      ]
     },
     "execution_count": 18,
     "metadata": {},
     "output_type": "execute_result"
    }
   ],
   "source": [
    "x_train.isna().sum() # No of missing values in each coloumn"
   ]
  },
  {
   "cell_type": "markdown",
   "id": "8a872cfc",
   "metadata": {},
   "source": [
    "## train to category"
   ]
  },
  {
   "cell_type": "code",
   "execution_count": 19,
   "id": "a5f2ef91",
   "metadata": {},
   "outputs": [
    {
     "data": {
      "text/plain": [
       "city                       object\n",
       "city_development_index    float64\n",
       "gender                     object\n",
       "relevent_experience        object\n",
       "enrolled_university        object\n",
       "education_level            object\n",
       "major_discipline           object\n",
       "experience                 object\n",
       "company_size               object\n",
       "company_type               object\n",
       "last_new_job               object\n",
       "training_hours              int64\n",
       "dtype: object"
      ]
     },
     "execution_count": 19,
     "metadata": {},
     "output_type": "execute_result"
    }
   ],
   "source": [
    "x_train.dtypes"
   ]
  },
  {
   "cell_type": "code",
   "execution_count": 20,
   "id": "deceadb0",
   "metadata": {},
   "outputs": [
    {
     "data": {
      "text/plain": [
       "dtype('int64')"
      ]
     },
     "execution_count": 20,
     "metadata": {},
     "output_type": "execute_result"
    }
   ],
   "source": [
    "y_train.dtypes"
   ]
  },
  {
   "cell_type": "code",
   "execution_count": 21,
   "id": "d8151a4e",
   "metadata": {},
   "outputs": [],
   "source": [
    "x_train = x_train.astype({\"city\":'category',\"gender\":'category',\"relevent_experience\":'category',\"enrolled_university\":'category',\"education_level\":'category',\"major_discipline\":'category',\"experience\":'category',\"company_size\":'category',\"company_type\":'category',\"last_new_job\":'category'})"
   ]
  },
  {
   "cell_type": "code",
   "execution_count": 22,
   "id": "441b70be",
   "metadata": {},
   "outputs": [
    {
     "data": {
      "text/plain": [
       "city                      category\n",
       "city_development_index     float64\n",
       "gender                    category\n",
       "relevent_experience       category\n",
       "enrolled_university       category\n",
       "education_level           category\n",
       "major_discipline          category\n",
       "experience                category\n",
       "company_size              category\n",
       "company_type              category\n",
       "last_new_job              category\n",
       "training_hours               int64\n",
       "dtype: object"
      ]
     },
     "execution_count": 22,
     "metadata": {},
     "output_type": "execute_result"
    }
   ],
   "source": [
    "x_train.dtypes"
   ]
  },
  {
   "cell_type": "code",
   "execution_count": 23,
   "id": "b98be365",
   "metadata": {},
   "outputs": [],
   "source": [
    "y_train = y_train.astype({\"target\":'category'})"
   ]
  },
  {
   "cell_type": "code",
   "execution_count": 24,
   "id": "0da2aa62",
   "metadata": {},
   "outputs": [
    {
     "data": {
      "text/plain": [
       "CategoricalDtype(categories=[0, 1], ordered=False)"
      ]
     },
     "execution_count": 24,
     "metadata": {},
     "output_type": "execute_result"
    }
   ],
   "source": [
    "y_train.dtypes"
   ]
  },
  {
   "cell_type": "markdown",
   "id": "2c75167c",
   "metadata": {},
   "source": [
    "## test to category"
   ]
  },
  {
   "cell_type": "code",
   "execution_count": 25,
   "id": "2ee72293",
   "metadata": {},
   "outputs": [
    {
     "data": {
      "text/plain": [
       "city                       object\n",
       "city_development_index    float64\n",
       "gender                     object\n",
       "relevent_experience        object\n",
       "enrolled_university        object\n",
       "education_level            object\n",
       "major_discipline           object\n",
       "experience                 object\n",
       "company_size               object\n",
       "company_type               object\n",
       "last_new_job               object\n",
       "training_hours              int64\n",
       "dtype: object"
      ]
     },
     "execution_count": 25,
     "metadata": {},
     "output_type": "execute_result"
    }
   ],
   "source": [
    "x_test.dtypes"
   ]
  },
  {
   "cell_type": "code",
   "execution_count": 26,
   "id": "d027319d",
   "metadata": {},
   "outputs": [
    {
     "data": {
      "text/plain": [
       "dtype('int64')"
      ]
     },
     "execution_count": 26,
     "metadata": {},
     "output_type": "execute_result"
    }
   ],
   "source": [
    "y_test.dtypes"
   ]
  },
  {
   "cell_type": "code",
   "execution_count": 27,
   "id": "6ee2b0d0",
   "metadata": {},
   "outputs": [],
   "source": [
    "x_test = x_test.astype({\"city\":'category',\"gender\":'category',\"relevent_experience\":'category',\"enrolled_university\":'category',\"education_level\":'category',\"major_discipline\":'category',\"experience\":'category',\"company_size\":'category',\"company_type\":'category',\"last_new_job\":'category'})"
   ]
  },
  {
   "cell_type": "code",
   "execution_count": 28,
   "id": "418ebcab",
   "metadata": {},
   "outputs": [
    {
     "data": {
      "text/plain": [
       "city                      category\n",
       "city_development_index     float64\n",
       "gender                    category\n",
       "relevent_experience       category\n",
       "enrolled_university       category\n",
       "education_level           category\n",
       "major_discipline          category\n",
       "experience                category\n",
       "company_size              category\n",
       "company_type              category\n",
       "last_new_job              category\n",
       "training_hours               int64\n",
       "dtype: object"
      ]
     },
     "execution_count": 28,
     "metadata": {},
     "output_type": "execute_result"
    }
   ],
   "source": [
    "x_test.dtypes"
   ]
  },
  {
   "cell_type": "code",
   "execution_count": 29,
   "id": "0a35e19b",
   "metadata": {},
   "outputs": [],
   "source": [
    "y_test = y_test.astype({\"target\":'category'})"
   ]
  },
  {
   "cell_type": "code",
   "execution_count": 30,
   "id": "65007671",
   "metadata": {},
   "outputs": [
    {
     "data": {
      "text/plain": [
       "CategoricalDtype(categories=[0, 1], ordered=False)"
      ]
     },
     "execution_count": 30,
     "metadata": {},
     "output_type": "execute_result"
    }
   ],
   "source": [
    "y_test.dtypes"
   ]
  },
  {
   "cell_type": "markdown",
   "id": "293d3eb0",
   "metadata": {},
   "source": [
    "## imputing missing values"
   ]
  },
  {
   "cell_type": "code",
   "execution_count": 31,
   "id": "88fa66cc",
   "metadata": {},
   "outputs": [],
   "source": [
    "# Since the missing values are only in the categorical variables, \"MODE\" will be used to impute the missing values"
   ]
  },
  {
   "cell_type": "code",
   "execution_count": 32,
   "id": "24114e24",
   "metadata": {},
   "outputs": [
    {
     "data": {
      "text/plain": [
       "0    Male\n",
       "Name: gender, dtype: category\n",
       "Categories (3, object): ['Female', 'Male', 'Other']"
      ]
     },
     "execution_count": 32,
     "metadata": {},
     "output_type": "execute_result"
    }
   ],
   "source": [
    "x_train['gender'].mode()"
   ]
  },
  {
   "cell_type": "code",
   "execution_count": 33,
   "id": "3cd027bc",
   "metadata": {},
   "outputs": [],
   "source": [
    "x_train['gender'].fillna('Male',inplace=True)"
   ]
  },
  {
   "cell_type": "code",
   "execution_count": 34,
   "id": "d47418c5",
   "metadata": {},
   "outputs": [],
   "source": [
    "x_test['gender'].fillna('Male',inplace=True)"
   ]
  },
  {
   "cell_type": "code",
   "execution_count": null,
   "id": "bdaa348a",
   "metadata": {},
   "outputs": [],
   "source": []
  },
  {
   "cell_type": "code",
   "execution_count": 35,
   "id": "6ca03ef3",
   "metadata": {},
   "outputs": [
    {
     "data": {
      "text/plain": [
       "0    no_enrollment\n",
       "Name: enrolled_university, dtype: category\n",
       "Categories (3, object): ['Full time course', 'Part time course', 'no_enrollment']"
      ]
     },
     "execution_count": 35,
     "metadata": {},
     "output_type": "execute_result"
    }
   ],
   "source": [
    "x_train['enrolled_university'].mode()"
   ]
  },
  {
   "cell_type": "code",
   "execution_count": 36,
   "id": "8b9bd993",
   "metadata": {},
   "outputs": [],
   "source": [
    "x_train['enrolled_university'].fillna('no_enrollment',inplace=True)"
   ]
  },
  {
   "cell_type": "code",
   "execution_count": 37,
   "id": "8282467f",
   "metadata": {},
   "outputs": [],
   "source": [
    "x_test['enrolled_university'].fillna('no_enrollment',inplace=True)"
   ]
  },
  {
   "cell_type": "code",
   "execution_count": null,
   "id": "7047bc4c",
   "metadata": {},
   "outputs": [],
   "source": []
  },
  {
   "cell_type": "code",
   "execution_count": 38,
   "id": "a99b39b8",
   "metadata": {},
   "outputs": [
    {
     "data": {
      "text/plain": [
       "0    Graduate\n",
       "Name: education_level, dtype: category\n",
       "Categories (5, object): ['Graduate', 'High School', 'Masters', 'Phd', 'Primary School']"
      ]
     },
     "execution_count": 38,
     "metadata": {},
     "output_type": "execute_result"
    }
   ],
   "source": [
    "x_train['education_level'].mode()"
   ]
  },
  {
   "cell_type": "code",
   "execution_count": 39,
   "id": "97c457e8",
   "metadata": {},
   "outputs": [],
   "source": [
    "x_train['education_level'].fillna('Graduate',inplace=True)"
   ]
  },
  {
   "cell_type": "code",
   "execution_count": 40,
   "id": "eee059cc",
   "metadata": {},
   "outputs": [],
   "source": [
    "x_test['education_level'].fillna('Graduate',inplace=True)"
   ]
  },
  {
   "cell_type": "code",
   "execution_count": null,
   "id": "d5eae127",
   "metadata": {},
   "outputs": [],
   "source": []
  },
  {
   "cell_type": "code",
   "execution_count": 41,
   "id": "d471b718",
   "metadata": {},
   "outputs": [
    {
     "data": {
      "text/plain": [
       "0    STEM\n",
       "Name: major_discipline, dtype: category\n",
       "Categories (6, object): ['Arts', 'Business Degree', 'Humanities', 'No Major', 'Other', 'STEM']"
      ]
     },
     "execution_count": 41,
     "metadata": {},
     "output_type": "execute_result"
    }
   ],
   "source": [
    "x_train['major_discipline'].mode()"
   ]
  },
  {
   "cell_type": "code",
   "execution_count": 42,
   "id": "33bf8364",
   "metadata": {},
   "outputs": [],
   "source": [
    "x_train['major_discipline'].fillna('STEM',inplace=True)"
   ]
  },
  {
   "cell_type": "code",
   "execution_count": 43,
   "id": "fbbc5c57",
   "metadata": {},
   "outputs": [],
   "source": [
    "x_test['major_discipline'].fillna('STEM',inplace=True)"
   ]
  },
  {
   "cell_type": "code",
   "execution_count": null,
   "id": "91f22830",
   "metadata": {},
   "outputs": [],
   "source": []
  },
  {
   "cell_type": "code",
   "execution_count": 44,
   "id": "c9d4b39b",
   "metadata": {},
   "outputs": [
    {
     "data": {
      "text/plain": [
       "0    >20\n",
       "Name: experience, dtype: category\n",
       "Categories (22, object): ['1', '10', '11', '12', ..., '8', '9', '<1', '>20']"
      ]
     },
     "execution_count": 44,
     "metadata": {},
     "output_type": "execute_result"
    }
   ],
   "source": [
    "x_train['experience'].mode()"
   ]
  },
  {
   "cell_type": "code",
   "execution_count": 45,
   "id": "b7da6578",
   "metadata": {},
   "outputs": [],
   "source": [
    "x_train['experience'].fillna('>20',inplace=True)"
   ]
  },
  {
   "cell_type": "code",
   "execution_count": 46,
   "id": "4b96769b",
   "metadata": {},
   "outputs": [],
   "source": [
    "x_test['experience'].fillna('>20',inplace=True)"
   ]
  },
  {
   "cell_type": "code",
   "execution_count": null,
   "id": "15df9099",
   "metadata": {},
   "outputs": [],
   "source": []
  },
  {
   "cell_type": "code",
   "execution_count": 47,
   "id": "bb2b2995",
   "metadata": {},
   "outputs": [
    {
     "data": {
      "text/plain": [
       "0    50-99\n",
       "Name: company_size, dtype: category\n",
       "Categories (8, object): ['100-500', '1000-4999', '10000+', '50-99', '500-999', '5000-9999', '<10', 'Oct-49']"
      ]
     },
     "execution_count": 47,
     "metadata": {},
     "output_type": "execute_result"
    }
   ],
   "source": [
    "x_train['company_size'].mode()"
   ]
  },
  {
   "cell_type": "code",
   "execution_count": 48,
   "id": "fb43384c",
   "metadata": {},
   "outputs": [],
   "source": [
    "x_train['company_size'].fillna('50-99',inplace=True)"
   ]
  },
  {
   "cell_type": "code",
   "execution_count": 49,
   "id": "187492f2",
   "metadata": {},
   "outputs": [],
   "source": [
    "x_test['company_size'].fillna('50-99',inplace=True)"
   ]
  },
  {
   "cell_type": "code",
   "execution_count": null,
   "id": "ef40f49f",
   "metadata": {},
   "outputs": [],
   "source": []
  },
  {
   "cell_type": "code",
   "execution_count": 50,
   "id": "ded2368e",
   "metadata": {},
   "outputs": [
    {
     "data": {
      "text/plain": [
       "0    Pvt Ltd\n",
       "Name: company_type, dtype: category\n",
       "Categories (6, object): ['Early Stage Startup', 'Funded Startup', 'NGO', 'Other', 'Public Sector', 'Pvt Ltd']"
      ]
     },
     "execution_count": 50,
     "metadata": {},
     "output_type": "execute_result"
    }
   ],
   "source": [
    "x_train['company_type'].mode()"
   ]
  },
  {
   "cell_type": "code",
   "execution_count": 51,
   "id": "483e2d41",
   "metadata": {},
   "outputs": [],
   "source": [
    "x_train['company_type'].fillna('Pvt Ltd',inplace=True)"
   ]
  },
  {
   "cell_type": "code",
   "execution_count": 52,
   "id": "a3ad10ba",
   "metadata": {},
   "outputs": [],
   "source": [
    "x_test['company_type'].fillna('Pvt Ltd',inplace=True)"
   ]
  },
  {
   "cell_type": "code",
   "execution_count": null,
   "id": "14d87342",
   "metadata": {},
   "outputs": [],
   "source": []
  },
  {
   "cell_type": "code",
   "execution_count": 53,
   "id": "7cc3d74e",
   "metadata": {},
   "outputs": [
    {
     "data": {
      "text/plain": [
       "0    1\n",
       "Name: last_new_job, dtype: category\n",
       "Categories (6, object): ['1', '2', '3', '4', '>4', 'never']"
      ]
     },
     "execution_count": 53,
     "metadata": {},
     "output_type": "execute_result"
    }
   ],
   "source": [
    "x_train['last_new_job'].mode()"
   ]
  },
  {
   "cell_type": "code",
   "execution_count": 54,
   "id": "1db41e73",
   "metadata": {},
   "outputs": [],
   "source": [
    "x_train['last_new_job'].fillna('1',inplace=True)"
   ]
  },
  {
   "cell_type": "code",
   "execution_count": 55,
   "id": "96bf7e4e",
   "metadata": {},
   "outputs": [],
   "source": [
    "x_test['last_new_job'].fillna('1',inplace=True)"
   ]
  },
  {
   "cell_type": "code",
   "execution_count": null,
   "id": "f4efa056",
   "metadata": {},
   "outputs": [],
   "source": []
  },
  {
   "cell_type": "code",
   "execution_count": 56,
   "id": "cc39304f",
   "metadata": {},
   "outputs": [
    {
     "data": {
      "text/plain": [
       "city                      False\n",
       "city_development_index    False\n",
       "gender                    False\n",
       "relevent_experience       False\n",
       "enrolled_university       False\n",
       "education_level           False\n",
       "major_discipline          False\n",
       "experience                False\n",
       "company_size              False\n",
       "company_type              False\n",
       "last_new_job              False\n",
       "training_hours            False\n",
       "dtype: bool"
      ]
     },
     "execution_count": 56,
     "metadata": {},
     "output_type": "execute_result"
    }
   ],
   "source": [
    "x_train.isna().any()"
   ]
  },
  {
   "cell_type": "code",
   "execution_count": 57,
   "id": "e132505b",
   "metadata": {
    "scrolled": true
   },
   "outputs": [
    {
     "data": {
      "text/plain": [
       "city                      False\n",
       "city_development_index    False\n",
       "gender                    False\n",
       "relevent_experience       False\n",
       "enrolled_university       False\n",
       "education_level           False\n",
       "major_discipline          False\n",
       "experience                False\n",
       "company_size              False\n",
       "company_type              False\n",
       "last_new_job              False\n",
       "training_hours            False\n",
       "dtype: bool"
      ]
     },
     "execution_count": 57,
     "metadata": {},
     "output_type": "execute_result"
    }
   ],
   "source": [
    "x_test.isna().any()"
   ]
  },
  {
   "cell_type": "code",
   "execution_count": null,
   "id": "f4c51f5f",
   "metadata": {},
   "outputs": [],
   "source": []
  },
  {
   "cell_type": "code",
   "execution_count": 58,
   "id": "d41625db",
   "metadata": {},
   "outputs": [],
   "source": [
    "trainDataSet = pd.concat([x_train, y_train], axis=1)"
   ]
  },
  {
   "cell_type": "code",
   "execution_count": 59,
   "id": "3a6080e5",
   "metadata": {
    "scrolled": true
   },
   "outputs": [
    {
     "data": {
      "text/html": [
       "<div>\n",
       "<style scoped>\n",
       "    .dataframe tbody tr th:only-of-type {\n",
       "        vertical-align: middle;\n",
       "    }\n",
       "\n",
       "    .dataframe tbody tr th {\n",
       "        vertical-align: top;\n",
       "    }\n",
       "\n",
       "    .dataframe thead th {\n",
       "        text-align: right;\n",
       "    }\n",
       "</style>\n",
       "<table border=\"1\" class=\"dataframe\">\n",
       "  <thead>\n",
       "    <tr style=\"text-align: right;\">\n",
       "      <th></th>\n",
       "      <th>city</th>\n",
       "      <th>city_development_index</th>\n",
       "      <th>gender</th>\n",
       "      <th>relevent_experience</th>\n",
       "      <th>enrolled_university</th>\n",
       "      <th>education_level</th>\n",
       "      <th>major_discipline</th>\n",
       "      <th>experience</th>\n",
       "      <th>company_size</th>\n",
       "      <th>company_type</th>\n",
       "      <th>last_new_job</th>\n",
       "      <th>training_hours</th>\n",
       "      <th>target</th>\n",
       "    </tr>\n",
       "  </thead>\n",
       "  <tbody>\n",
       "    <tr>\n",
       "      <th>17667</th>\n",
       "      <td>city_21</td>\n",
       "      <td>0.624</td>\n",
       "      <td>Male</td>\n",
       "      <td>Has relevent experience</td>\n",
       "      <td>no_enrollment</td>\n",
       "      <td>Masters</td>\n",
       "      <td>STEM</td>\n",
       "      <td>6</td>\n",
       "      <td>10000+</td>\n",
       "      <td>Pvt Ltd</td>\n",
       "      <td>1</td>\n",
       "      <td>10</td>\n",
       "      <td>0</td>\n",
       "    </tr>\n",
       "    <tr>\n",
       "      <th>9788</th>\n",
       "      <td>city_21</td>\n",
       "      <td>0.624</td>\n",
       "      <td>Male</td>\n",
       "      <td>Has relevent experience</td>\n",
       "      <td>no_enrollment</td>\n",
       "      <td>Graduate</td>\n",
       "      <td>STEM</td>\n",
       "      <td>6</td>\n",
       "      <td>10000+</td>\n",
       "      <td>Pvt Ltd</td>\n",
       "      <td>1</td>\n",
       "      <td>55</td>\n",
       "      <td>0</td>\n",
       "    </tr>\n",
       "    <tr>\n",
       "      <th>8768</th>\n",
       "      <td>city_71</td>\n",
       "      <td>0.884</td>\n",
       "      <td>Male</td>\n",
       "      <td>Has relevent experience</td>\n",
       "      <td>no_enrollment</td>\n",
       "      <td>High School</td>\n",
       "      <td>STEM</td>\n",
       "      <td>19</td>\n",
       "      <td>&lt;10</td>\n",
       "      <td>Pvt Ltd</td>\n",
       "      <td>2</td>\n",
       "      <td>7</td>\n",
       "      <td>1</td>\n",
       "    </tr>\n",
       "    <tr>\n",
       "      <th>15190</th>\n",
       "      <td>city_23</td>\n",
       "      <td>0.899</td>\n",
       "      <td>Male</td>\n",
       "      <td>Has relevent experience</td>\n",
       "      <td>Part time course</td>\n",
       "      <td>Graduate</td>\n",
       "      <td>STEM</td>\n",
       "      <td>5</td>\n",
       "      <td>50-99</td>\n",
       "      <td>Public Sector</td>\n",
       "      <td>&gt;4</td>\n",
       "      <td>46</td>\n",
       "      <td>0</td>\n",
       "    </tr>\n",
       "    <tr>\n",
       "      <th>7722</th>\n",
       "      <td>city_136</td>\n",
       "      <td>0.897</td>\n",
       "      <td>Male</td>\n",
       "      <td>Has relevent experience</td>\n",
       "      <td>no_enrollment</td>\n",
       "      <td>Masters</td>\n",
       "      <td>STEM</td>\n",
       "      <td>8</td>\n",
       "      <td>100-500</td>\n",
       "      <td>Pvt Ltd</td>\n",
       "      <td>1</td>\n",
       "      <td>24</td>\n",
       "      <td>0</td>\n",
       "    </tr>\n",
       "  </tbody>\n",
       "</table>\n",
       "</div>"
      ],
      "text/plain": [
       "           city  city_development_index gender      relevent_experience  \\\n",
       "17667   city_21                   0.624   Male  Has relevent experience   \n",
       "9788    city_21                   0.624   Male  Has relevent experience   \n",
       "8768    city_71                   0.884   Male  Has relevent experience   \n",
       "15190   city_23                   0.899   Male  Has relevent experience   \n",
       "7722   city_136                   0.897   Male  Has relevent experience   \n",
       "\n",
       "      enrolled_university education_level major_discipline experience  \\\n",
       "17667       no_enrollment         Masters             STEM          6   \n",
       "9788        no_enrollment        Graduate             STEM          6   \n",
       "8768        no_enrollment     High School             STEM         19   \n",
       "15190    Part time course        Graduate             STEM          5   \n",
       "7722        no_enrollment         Masters             STEM          8   \n",
       "\n",
       "      company_size   company_type last_new_job  training_hours target  \n",
       "17667       10000+        Pvt Ltd            1              10      0  \n",
       "9788        10000+        Pvt Ltd            1              55      0  \n",
       "8768           <10        Pvt Ltd            2               7      1  \n",
       "15190        50-99  Public Sector           >4              46      0  \n",
       "7722       100-500        Pvt Ltd            1              24      0  "
      ]
     },
     "execution_count": 59,
     "metadata": {},
     "output_type": "execute_result"
    }
   ],
   "source": [
    "trainDataSet.head()"
   ]
  },
  {
   "cell_type": "code",
   "execution_count": 60,
   "id": "111b680c",
   "metadata": {},
   "outputs": [],
   "source": [
    "testDataSet = pd.concat([x_test, y_test], axis=1)"
   ]
  },
  {
   "cell_type": "code",
   "execution_count": 61,
   "id": "94ab7436",
   "metadata": {},
   "outputs": [
    {
     "data": {
      "text/html": [
       "<div>\n",
       "<style scoped>\n",
       "    .dataframe tbody tr th:only-of-type {\n",
       "        vertical-align: middle;\n",
       "    }\n",
       "\n",
       "    .dataframe tbody tr th {\n",
       "        vertical-align: top;\n",
       "    }\n",
       "\n",
       "    .dataframe thead th {\n",
       "        text-align: right;\n",
       "    }\n",
       "</style>\n",
       "<table border=\"1\" class=\"dataframe\">\n",
       "  <thead>\n",
       "    <tr style=\"text-align: right;\">\n",
       "      <th></th>\n",
       "      <th>city</th>\n",
       "      <th>city_development_index</th>\n",
       "      <th>gender</th>\n",
       "      <th>relevent_experience</th>\n",
       "      <th>enrolled_university</th>\n",
       "      <th>education_level</th>\n",
       "      <th>major_discipline</th>\n",
       "      <th>experience</th>\n",
       "      <th>company_size</th>\n",
       "      <th>company_type</th>\n",
       "      <th>last_new_job</th>\n",
       "      <th>training_hours</th>\n",
       "      <th>target</th>\n",
       "    </tr>\n",
       "  </thead>\n",
       "  <tbody>\n",
       "    <tr>\n",
       "      <th>5759</th>\n",
       "      <td>city_103</td>\n",
       "      <td>0.920</td>\n",
       "      <td>Male</td>\n",
       "      <td>No relevent experience</td>\n",
       "      <td>no_enrollment</td>\n",
       "      <td>High School</td>\n",
       "      <td>STEM</td>\n",
       "      <td>3</td>\n",
       "      <td>50-99</td>\n",
       "      <td>Pvt Ltd</td>\n",
       "      <td>never</td>\n",
       "      <td>48</td>\n",
       "      <td>0</td>\n",
       "    </tr>\n",
       "    <tr>\n",
       "      <th>11495</th>\n",
       "      <td>city_103</td>\n",
       "      <td>0.920</td>\n",
       "      <td>Male</td>\n",
       "      <td>Has relevent experience</td>\n",
       "      <td>no_enrollment</td>\n",
       "      <td>Graduate</td>\n",
       "      <td>STEM</td>\n",
       "      <td>&gt;20</td>\n",
       "      <td>&lt;10</td>\n",
       "      <td>Pvt Ltd</td>\n",
       "      <td>never</td>\n",
       "      <td>20</td>\n",
       "      <td>0</td>\n",
       "    </tr>\n",
       "    <tr>\n",
       "      <th>2182</th>\n",
       "      <td>city_160</td>\n",
       "      <td>0.920</td>\n",
       "      <td>Male</td>\n",
       "      <td>Has relevent experience</td>\n",
       "      <td>no_enrollment</td>\n",
       "      <td>Masters</td>\n",
       "      <td>STEM</td>\n",
       "      <td>&gt;20</td>\n",
       "      <td>50-99</td>\n",
       "      <td>Pvt Ltd</td>\n",
       "      <td>&gt;4</td>\n",
       "      <td>96</td>\n",
       "      <td>0</td>\n",
       "    </tr>\n",
       "    <tr>\n",
       "      <th>14006</th>\n",
       "      <td>city_75</td>\n",
       "      <td>0.939</td>\n",
       "      <td>Male</td>\n",
       "      <td>No relevent experience</td>\n",
       "      <td>no_enrollment</td>\n",
       "      <td>Masters</td>\n",
       "      <td>STEM</td>\n",
       "      <td>12</td>\n",
       "      <td>&lt;10</td>\n",
       "      <td>Early Stage Startup</td>\n",
       "      <td>4</td>\n",
       "      <td>28</td>\n",
       "      <td>0</td>\n",
       "    </tr>\n",
       "    <tr>\n",
       "      <th>4042</th>\n",
       "      <td>city_103</td>\n",
       "      <td>0.920</td>\n",
       "      <td>Male</td>\n",
       "      <td>Has relevent experience</td>\n",
       "      <td>no_enrollment</td>\n",
       "      <td>Graduate</td>\n",
       "      <td>STEM</td>\n",
       "      <td>9</td>\n",
       "      <td>100-500</td>\n",
       "      <td>Pvt Ltd</td>\n",
       "      <td>1</td>\n",
       "      <td>9</td>\n",
       "      <td>0</td>\n",
       "    </tr>\n",
       "  </tbody>\n",
       "</table>\n",
       "</div>"
      ],
      "text/plain": [
       "           city  city_development_index gender      relevent_experience  \\\n",
       "5759   city_103                   0.920   Male   No relevent experience   \n",
       "11495  city_103                   0.920   Male  Has relevent experience   \n",
       "2182   city_160                   0.920   Male  Has relevent experience   \n",
       "14006   city_75                   0.939   Male   No relevent experience   \n",
       "4042   city_103                   0.920   Male  Has relevent experience   \n",
       "\n",
       "      enrolled_university education_level major_discipline experience  \\\n",
       "5759        no_enrollment     High School             STEM          3   \n",
       "11495       no_enrollment        Graduate             STEM        >20   \n",
       "2182        no_enrollment         Masters             STEM        >20   \n",
       "14006       no_enrollment         Masters             STEM         12   \n",
       "4042        no_enrollment        Graduate             STEM          9   \n",
       "\n",
       "      company_size         company_type last_new_job  training_hours target  \n",
       "5759         50-99              Pvt Ltd        never              48      0  \n",
       "11495          <10              Pvt Ltd        never              20      0  \n",
       "2182         50-99              Pvt Ltd           >4              96      0  \n",
       "14006          <10  Early Stage Startup            4              28      0  \n",
       "4042       100-500              Pvt Ltd            1               9      0  "
      ]
     },
     "execution_count": 61,
     "metadata": {},
     "output_type": "execute_result"
    }
   ],
   "source": [
    "testDataSet.head()"
   ]
  },
  {
   "cell_type": "code",
   "execution_count": null,
   "id": "8a8b4e7a",
   "metadata": {},
   "outputs": [],
   "source": []
  },
  {
   "cell_type": "code",
   "execution_count": 62,
   "id": "e42b1d02",
   "metadata": {},
   "outputs": [],
   "source": [
    "#trainDataSet.to_csv(\"trainDataSet.csv\")"
   ]
  },
  {
   "cell_type": "code",
   "execution_count": 63,
   "id": "e90f696e",
   "metadata": {},
   "outputs": [],
   "source": [
    "#testDataSet.to_csv(\"testDataSet.csv\")"
   ]
  },
  {
   "cell_type": "code",
   "execution_count": 64,
   "id": "b94c2b83",
   "metadata": {},
   "outputs": [],
   "source": [
    "#x_train.to_csv(\"x_train.csv\")"
   ]
  },
  {
   "cell_type": "code",
   "execution_count": 65,
   "id": "a0f576ea",
   "metadata": {},
   "outputs": [],
   "source": [
    "#y_train.to_csv(\"y_train.csv\")"
   ]
  },
  {
   "cell_type": "code",
   "execution_count": 66,
   "id": "b3331cf6",
   "metadata": {},
   "outputs": [],
   "source": [
    "#x_test.to_csv(\"x_test.csv\")"
   ]
  },
  {
   "cell_type": "code",
   "execution_count": 67,
   "id": "d0555dc4",
   "metadata": {},
   "outputs": [],
   "source": [
    "#y_test.to_csv(\"y_test.csv\")"
   ]
  },
  {
   "cell_type": "code",
   "execution_count": null,
   "id": "efde5644",
   "metadata": {},
   "outputs": [],
   "source": []
  },
  {
   "cell_type": "code",
   "execution_count": 68,
   "id": "9603dce5",
   "metadata": {
    "scrolled": true
   },
   "outputs": [
    {
     "data": {
      "image/png": "[encoded data removed]",
      "text/plain": [
       "<Figure size 432x288 with 2 Axes>"
      ]
     },
     "metadata": {
      "needs_background": "light"
     },
     "output_type": "display_data"
    }
   ],
   "source": [
    "sns.heatmap(trainDataSet.corr(),vmin=-1,vmax=1,annot=True)\n",
    "plt.show()"
   ]
  },
  {
   "cell_type": "code",
   "execution_count": 69,
   "id": "98431285",
   "metadata": {
    "scrolled": true
   },
   "outputs": [
    {
     "data": {
      "text/html": [
       "<div>\n",
       "<style scoped>\n",
       "    .dataframe tbody tr th:only-of-type {\n",
       "        vertical-align: middle;\n",
       "    }\n",
       "\n",
       "    .dataframe tbody tr th {\n",
       "        vertical-align: top;\n",
       "    }\n",
       "\n",
       "    .dataframe thead th {\n",
       "        text-align: right;\n",
       "    }\n",
       "</style>\n",
       "<table border=\"1\" class=\"dataframe\">\n",
       "  <thead>\n",
       "    <tr style=\"text-align: right;\">\n",
       "      <th></th>\n",
       "      <th>city_development_index</th>\n",
       "      <th>training_hours</th>\n",
       "    </tr>\n",
       "  </thead>\n",
       "  <tbody>\n",
       "    <tr>\n",
       "      <th>city_development_index</th>\n",
       "      <td>1.000000</td>\n",
       "      <td>0.001703</td>\n",
       "    </tr>\n",
       "    <tr>\n",
       "      <th>training_hours</th>\n",
       "      <td>0.001703</td>\n",
       "      <td>1.000000</td>\n",
       "    </tr>\n",
       "  </tbody>\n",
       "</table>\n",
       "</div>"
      ],
      "text/plain": [
       "                        city_development_index  training_hours\n",
       "city_development_index                1.000000        0.001703\n",
       "training_hours                        0.001703        1.000000"
      ]
     },
     "execution_count": 69,
     "metadata": {},
     "output_type": "execute_result"
    }
   ],
   "source": [
    "trainDataSet.corr()"
   ]
  },
  {
   "cell_type": "code",
   "execution_count": 70,
   "id": "0292120b",
   "metadata": {},
   "outputs": [],
   "source": [
    "#Correlation plot for continuous data is done by using R  "
   ]
  },
  {
   "cell_type": "code",
   "execution_count": 71,
   "id": "daeee1f8",
   "metadata": {},
   "outputs": [
    {
     "data": {
      "text/plain": [
       "LabelEncoder()"
      ]
     },
     "execution_count": 71,
     "metadata": {},
     "output_type": "execute_result"
    }
   ],
   "source": [
    "le=LabelEncoder()\n",
    "le"
   ]
  },
  {
   "cell_type": "code",
   "execution_count": 72,
   "id": "f10eed2d",
   "metadata": {},
   "outputs": [],
   "source": [
    "x_train[['city','gender','enrolled_university','relevent_experience','education_level','experience','major_discipline','company_type','company_size','last_new_job']]=x_train[['city','gender','enrolled_university','relevent_experience','education_level','experience','major_discipline','company_type','company_size','last_new_job']].apply(lambda col:le.fit_transform(col))"
   ]
  },
  {
   "cell_type": "code",
   "execution_count": 73,
   "id": "570aa785",
   "metadata": {},
   "outputs": [
    {
     "data": {
      "text/html": [
       "<div>\n",
       "<style scoped>\n",
       "    .dataframe tbody tr th:only-of-type {\n",
       "        vertical-align: middle;\n",
       "    }\n",
       "\n",
       "    .dataframe tbody tr th {\n",
       "        vertical-align: top;\n",
       "    }\n",
       "\n",
       "    .dataframe thead th {\n",
       "        text-align: right;\n",
       "    }\n",
       "</style>\n",
       "<table border=\"1\" class=\"dataframe\">\n",
       "  <thead>\n",
       "    <tr style=\"text-align: right;\">\n",
       "      <th></th>\n",
       "      <th>city</th>\n",
       "      <th>city_development_index</th>\n",
       "      <th>gender</th>\n",
       "      <th>relevent_experience</th>\n",
       "      <th>enrolled_university</th>\n",
       "      <th>education_level</th>\n",
       "      <th>major_discipline</th>\n",
       "      <th>experience</th>\n",
       "      <th>company_size</th>\n",
       "      <th>company_type</th>\n",
       "      <th>last_new_job</th>\n",
       "      <th>training_hours</th>\n",
       "    </tr>\n",
       "  </thead>\n",
       "  <tbody>\n",
       "    <tr>\n",
       "      <th>17667</th>\n",
       "      <td>64</td>\n",
       "      <td>0.624</td>\n",
       "      <td>1</td>\n",
       "      <td>0</td>\n",
       "      <td>2</td>\n",
       "      <td>2</td>\n",
       "      <td>5</td>\n",
       "      <td>16</td>\n",
       "      <td>2</td>\n",
       "      <td>5</td>\n",
       "      <td>0</td>\n",
       "      <td>10</td>\n",
       "    </tr>\n",
       "    <tr>\n",
       "      <th>9788</th>\n",
       "      <td>64</td>\n",
       "      <td>0.624</td>\n",
       "      <td>1</td>\n",
       "      <td>0</td>\n",
       "      <td>2</td>\n",
       "      <td>0</td>\n",
       "      <td>5</td>\n",
       "      <td>16</td>\n",
       "      <td>2</td>\n",
       "      <td>5</td>\n",
       "      <td>0</td>\n",
       "      <td>55</td>\n",
       "    </tr>\n",
       "    <tr>\n",
       "      <th>8768</th>\n",
       "      <td>99</td>\n",
       "      <td>0.884</td>\n",
       "      <td>1</td>\n",
       "      <td>0</td>\n",
       "      <td>2</td>\n",
       "      <td>1</td>\n",
       "      <td>5</td>\n",
       "      <td>10</td>\n",
       "      <td>6</td>\n",
       "      <td>5</td>\n",
       "      <td>1</td>\n",
       "      <td>7</td>\n",
       "    </tr>\n",
       "    <tr>\n",
       "      <th>15190</th>\n",
       "      <td>65</td>\n",
       "      <td>0.899</td>\n",
       "      <td>1</td>\n",
       "      <td>0</td>\n",
       "      <td>1</td>\n",
       "      <td>0</td>\n",
       "      <td>5</td>\n",
       "      <td>15</td>\n",
       "      <td>3</td>\n",
       "      <td>4</td>\n",
       "      <td>4</td>\n",
       "      <td>46</td>\n",
       "    </tr>\n",
       "    <tr>\n",
       "      <th>7722</th>\n",
       "      <td>30</td>\n",
       "      <td>0.897</td>\n",
       "      <td>1</td>\n",
       "      <td>0</td>\n",
       "      <td>2</td>\n",
       "      <td>2</td>\n",
       "      <td>5</td>\n",
       "      <td>18</td>\n",
       "      <td>0</td>\n",
       "      <td>5</td>\n",
       "      <td>0</td>\n",
       "      <td>24</td>\n",
       "    </tr>\n",
       "  </tbody>\n",
       "</table>\n",
       "</div>"
      ],
      "text/plain": [
       "       city  city_development_index  gender  relevent_experience  \\\n",
       "17667    64                   0.624       1                    0   \n",
       "9788     64                   0.624       1                    0   \n",
       "8768     99                   0.884       1                    0   \n",
       "15190    65                   0.899       1                    0   \n",
       "7722     30                   0.897       1                    0   \n",
       "\n",
       "       enrolled_university  education_level  major_discipline  experience  \\\n",
       "17667                    2                2                 5          16   \n",
       "9788                     2                0                 5          16   \n",
       "8768                     2                1                 5          10   \n",
       "15190                    1                0                 5          15   \n",
       "7722                     2                2                 5          18   \n",
       "\n",
       "       company_size  company_type  last_new_job  training_hours  \n",
       "17667             2             5             0              10  \n",
       "9788              2             5             0              55  \n",
       "8768              6             5             1               7  \n",
       "15190             3             4             4              46  \n",
       "7722              0             5             0              24  "
      ]
     },
     "execution_count": 73,
     "metadata": {},
     "output_type": "execute_result"
    }
   ],
   "source": [
    "x_train.head()"
   ]
  },
  {
   "cell_type": "code",
   "execution_count": 74,
   "id": "b7236e2b",
   "metadata": {},
   "outputs": [],
   "source": [
    "x_test[['city','gender','enrolled_university','relevent_experience','education_level','experience','major_discipline','company_type','company_size','last_new_job']]=x_test[['city','gender','enrolled_university','relevent_experience','education_level','experience','major_discipline','company_type','company_size','last_new_job']].apply(lambda col:le.fit_transform(col))"
   ]
  },
  {
   "cell_type": "code",
   "execution_count": 75,
   "id": "c30ef0f0",
   "metadata": {},
   "outputs": [
    {
     "data": {
      "text/html": [
       "<div>\n",
       "<style scoped>\n",
       "    .dataframe tbody tr th:only-of-type {\n",
       "        vertical-align: middle;\n",
       "    }\n",
       "\n",
       "    .dataframe tbody tr th {\n",
       "        vertical-align: top;\n",
       "    }\n",
       "\n",
       "    .dataframe thead th {\n",
       "        text-align: right;\n",
       "    }\n",
       "</style>\n",
       "<table border=\"1\" class=\"dataframe\">\n",
       "  <thead>\n",
       "    <tr style=\"text-align: right;\">\n",
       "      <th></th>\n",
       "      <th>city</th>\n",
       "      <th>city_development_index</th>\n",
       "      <th>gender</th>\n",
       "      <th>relevent_experience</th>\n",
       "      <th>enrolled_university</th>\n",
       "      <th>education_level</th>\n",
       "      <th>major_discipline</th>\n",
       "      <th>experience</th>\n",
       "      <th>company_size</th>\n",
       "      <th>company_type</th>\n",
       "      <th>last_new_job</th>\n",
       "      <th>training_hours</th>\n",
       "    </tr>\n",
       "  </thead>\n",
       "  <tbody>\n",
       "    <tr>\n",
       "      <th>5759</th>\n",
       "      <td>5</td>\n",
       "      <td>0.920</td>\n",
       "      <td>1</td>\n",
       "      <td>1</td>\n",
       "      <td>2</td>\n",
       "      <td>1</td>\n",
       "      <td>5</td>\n",
       "      <td>13</td>\n",
       "      <td>3</td>\n",
       "      <td>5</td>\n",
       "      <td>5</td>\n",
       "      <td>48</td>\n",
       "    </tr>\n",
       "    <tr>\n",
       "      <th>11495</th>\n",
       "      <td>5</td>\n",
       "      <td>0.920</td>\n",
       "      <td>1</td>\n",
       "      <td>0</td>\n",
       "      <td>2</td>\n",
       "      <td>0</td>\n",
       "      <td>5</td>\n",
       "      <td>21</td>\n",
       "      <td>6</td>\n",
       "      <td>5</td>\n",
       "      <td>5</td>\n",
       "      <td>20</td>\n",
       "    </tr>\n",
       "    <tr>\n",
       "      <th>2182</th>\n",
       "      <td>43</td>\n",
       "      <td>0.920</td>\n",
       "      <td>1</td>\n",
       "      <td>0</td>\n",
       "      <td>2</td>\n",
       "      <td>2</td>\n",
       "      <td>5</td>\n",
       "      <td>21</td>\n",
       "      <td>3</td>\n",
       "      <td>5</td>\n",
       "      <td>4</td>\n",
       "      <td>96</td>\n",
       "    </tr>\n",
       "    <tr>\n",
       "      <th>14006</th>\n",
       "      <td>92</td>\n",
       "      <td>0.939</td>\n",
       "      <td>1</td>\n",
       "      <td>1</td>\n",
       "      <td>2</td>\n",
       "      <td>2</td>\n",
       "      <td>5</td>\n",
       "      <td>3</td>\n",
       "      <td>6</td>\n",
       "      <td>0</td>\n",
       "      <td>3</td>\n",
       "      <td>28</td>\n",
       "    </tr>\n",
       "    <tr>\n",
       "      <th>4042</th>\n",
       "      <td>5</td>\n",
       "      <td>0.920</td>\n",
       "      <td>1</td>\n",
       "      <td>0</td>\n",
       "      <td>2</td>\n",
       "      <td>0</td>\n",
       "      <td>5</td>\n",
       "      <td>19</td>\n",
       "      <td>0</td>\n",
       "      <td>5</td>\n",
       "      <td>0</td>\n",
       "      <td>9</td>\n",
       "    </tr>\n",
       "  </tbody>\n",
       "</table>\n",
       "</div>"
      ],
      "text/plain": [
       "       city  city_development_index  gender  relevent_experience  \\\n",
       "5759      5                   0.920       1                    1   \n",
       "11495     5                   0.920       1                    0   \n",
       "2182     43                   0.920       1                    0   \n",
       "14006    92                   0.939       1                    1   \n",
       "4042      5                   0.920       1                    0   \n",
       "\n",
       "       enrolled_university  education_level  major_discipline  experience  \\\n",
       "5759                     2                1                 5          13   \n",
       "11495                    2                0                 5          21   \n",
       "2182                     2                2                 5          21   \n",
       "14006                    2                2                 5           3   \n",
       "4042                     2                0                 5          19   \n",
       "\n",
       "       company_size  company_type  last_new_job  training_hours  \n",
       "5759              3             5             5              48  \n",
       "11495             6             5             5              20  \n",
       "2182              3             5             4              96  \n",
       "14006             6             0             3              28  \n",
       "4042              0             5             0               9  "
      ]
     },
     "execution_count": 75,
     "metadata": {},
     "output_type": "execute_result"
    }
   ],
   "source": [
    "x_test.head()"
   ]
  },
  {
   "cell_type": "code",
   "execution_count": 76,
   "id": "8c521c25",
   "metadata": {},
   "outputs": [
    {
     "data": {
      "text/plain": [
       "5     3456\n",
       "64    2158\n",
       "48    1223\n",
       "13    1056\n",
       "49     670\n",
       "      ... \n",
       "12       3\n",
       "67       3\n",
       "20       2\n",
       "54       1\n",
       "34       1\n",
       "Name: city, Length: 123, dtype: int64"
      ]
     },
     "execution_count": 76,
     "metadata": {},
     "output_type": "execute_result"
    }
   ],
   "source": [
    "x_train.city.value_counts()"
   ]
  },
  {
   "cell_type": "code",
   "execution_count": 77,
   "id": "fbfc30e0",
   "metadata": {},
   "outputs": [
    {
     "data": {
      "text/plain": [
       "5     3456\n",
       "64    2158\n",
       "48    1223\n",
       "13    1056\n",
       "49     670\n",
       "      ... \n",
       "12       3\n",
       "67       3\n",
       "20       2\n",
       "54       1\n",
       "34       1\n",
       "Name: city, Length: 123, dtype: int64"
      ]
     },
     "execution_count": 77,
     "metadata": {},
     "output_type": "execute_result"
    }
   ],
   "source": [
    "x_train.city.value_counts()"
   ]
  },
  {
   "cell_type": "code",
   "execution_count": 78,
   "id": "11898336",
   "metadata": {},
   "outputs": [
    {
     "data": {
      "text/plain": [
       "1    14137\n",
       "0     1001\n",
       "2      149\n",
       "Name: gender, dtype: int64"
      ]
     },
     "execution_count": 78,
     "metadata": {},
     "output_type": "execute_result"
    }
   ],
   "source": [
    "x_train.gender.value_counts()"
   ]
  },
  {
   "cell_type": "code",
   "execution_count": 79,
   "id": "6a1915f7",
   "metadata": {},
   "outputs": [
    {
     "data": {
      "text/plain": [
       "1    14137\n",
       "0     1001\n",
       "2      149\n",
       "Name: gender, dtype: int64"
      ]
     },
     "execution_count": 79,
     "metadata": {},
     "output_type": "execute_result"
    }
   ],
   "source": [
    "x_train.gender.value_counts()"
   ]
  },
  {
   "cell_type": "code",
   "execution_count": 80,
   "id": "d4dd39cb",
   "metadata": {},
   "outputs": [
    {
     "data": {
      "text/plain": [
       "2    11280\n",
       "0     3044\n",
       "1      963\n",
       "Name: enrolled_university, dtype: int64"
      ]
     },
     "execution_count": 80,
     "metadata": {},
     "output_type": "execute_result"
    }
   ],
   "source": [
    "x_train.enrolled_university.value_counts()"
   ]
  },
  {
   "cell_type": "code",
   "execution_count": 81,
   "id": "b6fbbebb",
   "metadata": {},
   "outputs": [
    {
     "data": {
      "text/plain": [
       "2    11280\n",
       "0     3044\n",
       "1      963\n",
       "Name: enrolled_university, dtype: int64"
      ]
     },
     "execution_count": 81,
     "metadata": {},
     "output_type": "execute_result"
    }
   ],
   "source": [
    "x_train.enrolled_university.value_counts()"
   ]
  },
  {
   "cell_type": "code",
   "execution_count": 82,
   "id": "b4a75a0a",
   "metadata": {},
   "outputs": [
    {
     "data": {
      "text/plain": [
       "0    10997\n",
       "1     4290\n",
       "Name: relevent_experience, dtype: int64"
      ]
     },
     "execution_count": 82,
     "metadata": {},
     "output_type": "execute_result"
    }
   ],
   "source": [
    "x_train.relevent_experience.value_counts()"
   ]
  },
  {
   "cell_type": "code",
   "execution_count": 83,
   "id": "dc957d8b",
   "metadata": {},
   "outputs": [
    {
     "data": {
      "text/plain": [
       "0    10997\n",
       "1     4290\n",
       "Name: relevent_experience, dtype: int64"
      ]
     },
     "execution_count": 83,
     "metadata": {},
     "output_type": "execute_result"
    }
   ],
   "source": [
    "x_train.relevent_experience.value_counts()"
   ]
  },
  {
   "cell_type": "code",
   "execution_count": 84,
   "id": "0ce8147f",
   "metadata": {},
   "outputs": [
    {
     "data": {
      "text/plain": [
       "0    9585\n",
       "2    3489\n",
       "1    1626\n",
       "3     337\n",
       "4     250\n",
       "Name: education_level, dtype: int64"
      ]
     },
     "execution_count": 84,
     "metadata": {},
     "output_type": "execute_result"
    }
   ],
   "source": [
    "x_train.education_level.value_counts()"
   ]
  },
  {
   "cell_type": "code",
   "execution_count": 85,
   "id": "f3423423",
   "metadata": {},
   "outputs": [
    {
     "data": {
      "text/plain": [
       "0    9585\n",
       "2    3489\n",
       "1    1626\n",
       "3     337\n",
       "4     250\n",
       "Name: education_level, dtype: int64"
      ]
     },
     "execution_count": 85,
     "metadata": {},
     "output_type": "execute_result"
    }
   ],
   "source": [
    "x_train.education_level.value_counts()"
   ]
  },
  {
   "cell_type": "code",
   "execution_count": 86,
   "id": "0bfc173f",
   "metadata": {},
   "outputs": [
    {
     "data": {
      "text/plain": [
       "21    2641\n",
       "15    1127\n",
       "14    1113\n",
       "13    1099\n",
       "16     970\n",
       "11     889\n",
       "17     821\n",
       "1      804\n",
       "19     780\n",
       "18     664\n",
       "6      545\n",
       "2      531\n",
       "5      464\n",
       "0      433\n",
       "20     425\n",
       "3      406\n",
       "7      400\n",
       "4      310\n",
       "8      271\n",
       "10     246\n",
       "9      225\n",
       "12     123\n",
       "Name: experience, dtype: int64"
      ]
     },
     "execution_count": 86,
     "metadata": {},
     "output_type": "execute_result"
    }
   ],
   "source": [
    "x_train.experience.value_counts()"
   ]
  },
  {
   "cell_type": "code",
   "execution_count": 87,
   "id": "56b9f0a5",
   "metadata": {},
   "outputs": [
    {
     "data": {
      "text/plain": [
       "21    2641\n",
       "15    1127\n",
       "14    1113\n",
       "13    1099\n",
       "16     970\n",
       "11     889\n",
       "17     821\n",
       "1      804\n",
       "19     780\n",
       "18     664\n",
       "6      545\n",
       "2      531\n",
       "5      464\n",
       "0      433\n",
       "20     425\n",
       "3      406\n",
       "7      400\n",
       "4      310\n",
       "8      271\n",
       "10     246\n",
       "9      225\n",
       "12     123\n",
       "Name: experience, dtype: int64"
      ]
     },
     "execution_count": 87,
     "metadata": {},
     "output_type": "execute_result"
    }
   ],
   "source": [
    "x_train.experience.value_counts()"
   ]
  },
  {
   "cell_type": "code",
   "execution_count": 88,
   "id": "ee729d80",
   "metadata": {},
   "outputs": [
    {
     "data": {
      "text/plain": [
       "5    13805\n",
       "2      547\n",
       "4      299\n",
       "1      258\n",
       "0      203\n",
       "3      175\n",
       "Name: major_discipline, dtype: int64"
      ]
     },
     "execution_count": 88,
     "metadata": {},
     "output_type": "execute_result"
    }
   ],
   "source": [
    "x_train.major_discipline.value_counts()"
   ]
  },
  {
   "cell_type": "code",
   "execution_count": 89,
   "id": "53ed596f",
   "metadata": {},
   "outputs": [
    {
     "data": {
      "text/plain": [
       "5    13805\n",
       "2      547\n",
       "4      299\n",
       "1      258\n",
       "0      203\n",
       "3      175\n",
       "Name: major_discipline, dtype: int64"
      ]
     },
     "execution_count": 89,
     "metadata": {},
     "output_type": "execute_result"
    }
   ],
   "source": [
    "x_train.major_discipline.value_counts()"
   ]
  },
  {
   "cell_type": "code",
   "execution_count": 90,
   "id": "1f729fde",
   "metadata": {},
   "outputs": [
    {
     "data": {
      "text/plain": [
       "5    12700\n",
       "1      807\n",
       "4      781\n",
       "0      486\n",
       "2      415\n",
       "3       98\n",
       "Name: company_type, dtype: int64"
      ]
     },
     "execution_count": 90,
     "metadata": {},
     "output_type": "execute_result"
    }
   ],
   "source": [
    "x_train.company_type.value_counts()"
   ]
  },
  {
   "cell_type": "code",
   "execution_count": 91,
   "id": "cb5a4e1b",
   "metadata": {},
   "outputs": [
    {
     "data": {
      "text/plain": [
       "5    12700\n",
       "1      807\n",
       "4      781\n",
       "0      486\n",
       "2      415\n",
       "3       98\n",
       "Name: company_type, dtype: int64"
      ]
     },
     "execution_count": 91,
     "metadata": {},
     "output_type": "execute_result"
    }
   ],
   "source": [
    "x_train.company_type.value_counts()"
   ]
  },
  {
   "cell_type": "code",
   "execution_count": 92,
   "id": "c0879111",
   "metadata": {},
   "outputs": [
    {
     "data": {
      "text/plain": [
       "3    7199\n",
       "0    2082\n",
       "2    1608\n",
       "7    1152\n",
       "1    1072\n",
       "6    1016\n",
       "4     705\n",
       "5     453\n",
       "Name: company_size, dtype: int64"
      ]
     },
     "execution_count": 92,
     "metadata": {},
     "output_type": "execute_result"
    }
   ],
   "source": [
    "x_train.company_size.value_counts()"
   ]
  },
  {
   "cell_type": "code",
   "execution_count": 93,
   "id": "1569c0bf",
   "metadata": {},
   "outputs": [
    {
     "data": {
      "text/plain": [
       "3    7199\n",
       "0    2082\n",
       "2    1608\n",
       "7    1152\n",
       "1    1072\n",
       "6    1016\n",
       "4     705\n",
       "5     453\n",
       "Name: company_size, dtype: int64"
      ]
     },
     "execution_count": 93,
     "metadata": {},
     "output_type": "execute_result"
    }
   ],
   "source": [
    "x_train.company_size.value_counts()"
   ]
  },
  {
   "cell_type": "code",
   "execution_count": 94,
   "id": "3fa2e030",
   "metadata": {},
   "outputs": [
    {
     "data": {
      "text/plain": [
       "0    6793\n",
       "4    2605\n",
       "1    2293\n",
       "5    1964\n",
       "3     823\n",
       "2     809\n",
       "Name: last_new_job, dtype: int64"
      ]
     },
     "execution_count": 94,
     "metadata": {},
     "output_type": "execute_result"
    }
   ],
   "source": [
    "x_train.last_new_job.value_counts()"
   ]
  },
  {
   "cell_type": "code",
   "execution_count": 95,
   "id": "bc8cd2f1",
   "metadata": {},
   "outputs": [
    {
     "data": {
      "text/plain": [
       "0    6793\n",
       "4    2605\n",
       "1    2293\n",
       "5    1964\n",
       "3     823\n",
       "2     809\n",
       "Name: last_new_job, dtype: int64"
      ]
     },
     "execution_count": 95,
     "metadata": {},
     "output_type": "execute_result"
    }
   ],
   "source": [
    "x_train.last_new_job.value_counts()"
   ]
  },
  {
   "cell_type": "code",
   "execution_count": 96,
   "id": "52932a13",
   "metadata": {
    "scrolled": true
   },
   "outputs": [],
   "source": [
    "#x_train_new=pd.get_dummies(x_train[['city','gender','enrolled_university','relevent_experience','education_level','experience',\n",
    "#                             'major_discipline','company_type','company_size','last_new_job']],drop_first=True)\n",
    "#x_train_new.head()"
   ]
  },
  {
   "cell_type": "code",
   "execution_count": 97,
   "id": "71102d64",
   "metadata": {},
   "outputs": [],
   "source": [
    "#x_test_new=pd.get_dummies(x_test[['city','gender','enrolled_university','relevent_experience','education_level','experience',\n",
    "#                              'major_discipline','company_type','company_size','last_new_job']],drop_first=True)\n",
    "#x_test_new.head()"
   ]
  },
  {
   "cell_type": "code",
   "execution_count": 98,
   "id": "c4c5d09e",
   "metadata": {},
   "outputs": [],
   "source": [
    "# Get missing columns in the training test\n",
    "#missing_cols = set( x_train_new.columns ) - set( x_test_new.columns )"
   ]
  },
  {
   "cell_type": "code",
   "execution_count": 99,
   "id": "c25009da",
   "metadata": {
    "scrolled": true
   },
   "outputs": [],
   "source": [
    "#missing_cols"
   ]
  },
  {
   "cell_type": "code",
   "execution_count": 100,
   "id": "fa808539",
   "metadata": {},
   "outputs": [],
   "source": [
    "#x_test_new= x_test_new.reindex(columns = x_train_new.columns, fill_value=0)"
   ]
  },
  {
   "cell_type": "code",
   "execution_count": 101,
   "id": "d5242357",
   "metadata": {},
   "outputs": [],
   "source": [
    "#missing_cols = set( x_train_new.columns ) - set( x_test_new.columns )\n",
    "#missing_cols"
   ]
  },
  {
   "cell_type": "code",
   "execution_count": 102,
   "id": "354bc14a",
   "metadata": {},
   "outputs": [
    {
     "data": {
      "text/plain": [
       "(15287, 12)"
      ]
     },
     "execution_count": 102,
     "metadata": {},
     "output_type": "execute_result"
    }
   ],
   "source": [
    "x_train.shape"
   ]
  },
  {
   "cell_type": "code",
   "execution_count": 103,
   "id": "25278247",
   "metadata": {},
   "outputs": [
    {
     "data": {
      "text/plain": [
       "(3822, 12)"
      ]
     },
     "execution_count": 103,
     "metadata": {},
     "output_type": "execute_result"
    }
   ],
   "source": [
    "x_test.shape"
   ]
  },
  {
   "cell_type": "code",
   "execution_count": 104,
   "id": "7ad369d2",
   "metadata": {},
   "outputs": [
    {
     "data": {
      "text/plain": [
       "0    11483\n",
       "1     3804\n",
       "Name: target, dtype: int64"
      ]
     },
     "execution_count": 104,
     "metadata": {},
     "output_type": "execute_result"
    }
   ],
   "source": [
    "y_train.value_counts()"
   ]
  },
  {
   "cell_type": "markdown",
   "id": "b4b5ca9e",
   "metadata": {},
   "source": [
    "# Performing SMOTE"
   ]
  },
  {
   "cell_type": "code",
   "execution_count": null,
   "id": "1c12fb77",
   "metadata": {},
   "outputs": [],
   "source": [
    "smt=SMOTE()"
   ]
  },
  {
   "cell_type": "code",
   "execution_count": null,
   "id": "8eb47cc1",
   "metadata": {},
   "outputs": [],
   "source": [
    "x_sm,y_sm=smt.fit_resample(x_train_new,y_train)"
   ]
  },
  {
   "cell_type": "code",
   "execution_count": null,
   "id": "f2150ea5",
   "metadata": {},
   "outputs": [],
   "source": [
    "y_sm.value_counts()"
   ]
  },
  {
   "cell_type": "markdown",
   "id": "c0d51bd0",
   "metadata": {},
   "source": [
    "# Over sampling (SMOTE)"
   ]
  },
  {
   "cell_type": "markdown",
   "id": "33663e3f",
   "metadata": {},
   "source": [
    "## 1) Logistic"
   ]
  },
  {
   "cell_type": "code",
   "execution_count": null,
   "id": "93cb55ef",
   "metadata": {},
   "outputs": [],
   "source": [
    "# define models and parameters\n",
    "model = LogisticRegression()\n",
    "solvers = ['newton-cg', 'lbfgs', 'liblinear']\n",
    "penalty = ['l2']\n",
    "c_values = [100, 10, 1.0, 0.1, 0.01]\n",
    "# define grid search\n",
    "grid = dict(solver=solvers,penalty=penalty,C=c_values)\n",
    "CV = RepeatedStratifiedKFold(n_splits=10, n_repeats=3, random_state=1)\n",
    "grid_search = GridSearchCV(estimator=model, param_grid=grid, n_jobs=-1, cv=CV, scoring='accuracy',error_score=0)\n",
    "grid_result = grid_search.fit(x_sm,y_sm)\n",
    "# summarize results\n",
    "print(\"Best: %f using %s\" % (grid_result.best_score_, grid_result.best_params_))\n",
    "means = grid_result.cv_results_['mean_test_score']\n",
    "stds = grid_result.cv_results_['std_test_score']\n",
    "params = grid_result.cv_results_['params']\n",
    "for mean, stdev, param in zip(means, stds, params):\n",
    "    print(\"%f (%f) with: %r\" % (mean, stdev, param))"
   ]
  },
  {
   "cell_type": "code",
   "execution_count": null,
   "id": "e0137098",
   "metadata": {},
   "outputs": [],
   "source": []
  },
  {
   "cell_type": "code",
   "execution_count": null,
   "id": "877081f3",
   "metadata": {},
   "outputs": [],
   "source": [
    "lr = LogisticRegression(C=100,penalty='l2',solver='newton-cg')\n",
    "lr.fit(x_sm,y_sm)"
   ]
  },
  {
   "cell_type": "markdown",
   "id": "f3e04002",
   "metadata": {},
   "source": [
    "## 2)Ridge"
   ]
  },
  {
   "cell_type": "code",
   "execution_count": null,
   "id": "b5fa803b",
   "metadata": {},
   "outputs": [],
   "source": [
    "params = {\"alpha\":[0.1,0.2,0.3,0.4,0.5,0.6,0.7,0.8,0.9,1]}\n",
    "model = RidgeClassifier()\n",
    "CV = KFold(n_splits=10,shuffle=True)"
   ]
  },
  {
   "cell_type": "code",
   "execution_count": null,
   "id": "3c1620d9",
   "metadata": {},
   "outputs": [],
   "source": [
    "gsearch = GridSearchCV(model, params,cv=CV)"
   ]
  },
  {
   "cell_type": "code",
   "execution_count": null,
   "id": "a7b79175",
   "metadata": {},
   "outputs": [],
   "source": [
    "results = gsearch.fit(x_sm, y_sm)"
   ]
  },
  {
   "cell_type": "code",
   "execution_count": null,
   "id": "7e76583b",
   "metadata": {},
   "outputs": [],
   "source": [
    "results.best_params_"
   ]
  },
  {
   "cell_type": "code",
   "execution_count": null,
   "id": "e745c918",
   "metadata": {},
   "outputs": [],
   "source": [
    "rr = RidgeClassifier(alpha=0.1)\n",
    "rr.fit(x_sm, y_sm)"
   ]
  },
  {
   "cell_type": "markdown",
   "id": "df1bf2e6",
   "metadata": {},
   "source": [
    "## 3)Bagging"
   ]
  },
  {
   "cell_type": "code",
   "execution_count": null,
   "id": "073f5f77",
   "metadata": {},
   "outputs": [],
   "source": [
    "# define models and parameters\n",
    "model = BaggingClassifier()\n",
    "n_estimators = [10, 100, 1000]\n",
    "# define grid search\n",
    "grid = dict(n_estimators=n_estimators)\n",
    "CV = RepeatedStratifiedKFold(n_splits=10, n_repeats=3, random_state=1)\n",
    "grid_search = GridSearchCV(estimator=model, param_grid=grid, n_jobs=-1, cv=CV, scoring='accuracy',error_score=0)\n",
    "grid_result = grid_search.fit(x_sm,y_sm)\n",
    "# summarize results\n",
    "print(\"Best: %f using %s\" % (grid_result.best_score_, grid_result.best_params_))\n",
    "means = grid_result.cv_results_['mean_test_score']\n",
    "stds = grid_result.cv_results_['std_test_score']\n",
    "params = grid_result.cv_results_['params']\n",
    "for mean, stdev, param in zip(means, stds, params):\n",
    "    print(\"%f (%f) with: %r\" % (mean, stdev, param))"
   ]
  },
  {
   "cell_type": "code",
   "execution_count": null,
   "id": "0ded679b",
   "metadata": {},
   "outputs": [],
   "source": [
    "bag = BaggingClassifier(n_estimators=100)\n",
    "bag.fit(x_sm, y_sm)"
   ]
  },
  {
   "cell_type": "markdown",
   "id": "1d7b8be7",
   "metadata": {},
   "source": [
    "## 4)Random Forest"
   ]
  },
  {
   "cell_type": "code",
   "execution_count": null,
   "id": "ca8da9a4",
   "metadata": {},
   "outputs": [],
   "source": [
    "# define models and parameters\n",
    "model = RandomForestClassifier()\n",
    "n_estimators = [10, 100]\n",
    "max_features = ['sqrt', 'log2']\n",
    "# define grid search\n",
    "grid = dict(n_estimators=n_estimators,max_features=max_features)\n",
    "cv = RepeatedStratifiedKFold(n_splits=10, n_repeats=3, random_state=1)\n",
    "grid_search = GridSearchCV(estimator=model, param_grid=grid, n_jobs=-1, cv=cv, scoring='accuracy',error_score=0)\n",
    "grid_result = grid_search.fit(x_sm,y_sm)\n",
    "# summarize results\n",
    "print(\"Best: %f using %s\" % (grid_result.best_score_, grid_result.best_params_))\n",
    "means = grid_result.cv_results_['mean_test_score']\n",
    "stds = grid_result.cv_results_['std_test_score']\n",
    "params = grid_result.cv_results_['params']\n",
    "for mean, stdev, param in zip(means, stds, params):\n",
    "    print(\"%f (%f) with: %r\" % (mean, stdev, param))"
   ]
  },
  {
   "cell_type": "code",
   "execution_count": null,
   "id": "815ce793",
   "metadata": {},
   "outputs": [],
   "source": [
    "rf = RandomForestClassifier(max_features= 'log2', n_estimators= 100)\n",
    "rf.fit(x_sm, y_sm)"
   ]
  },
  {
   "cell_type": "markdown",
   "id": "07cc21b5",
   "metadata": {},
   "source": [
    "## 5)KNN"
   ]
  },
  {
   "cell_type": "code",
   "execution_count": null,
   "id": "603c2b58",
   "metadata": {},
   "outputs": [],
   "source": [
    "# define models and parameters\n",
    "model = KNeighborsClassifier()\n",
    "n_neighbors = range(5)\n",
    "weights = ['uniform', 'distance']\n",
    "metric = ['euclidean', 'manhattan', 'minkowski']\n",
    "# define grid search\n",
    "grid = dict(n_neighbors=n_neighbors,weights=weights,metric=metric)\n",
    "CV = RepeatedStratifiedKFold(n_splits=10, n_repeats=3, random_state=1)\n",
    "grid_search = GridSearchCV(estimator=model, param_grid=grid, n_jobs=-1, cv=CV, scoring='accuracy',error_score=0)\n",
    "grid_result = grid_search.fit(x_sm,y_sm)\n",
    "# summarize results\n",
    "print(\"Best: %f using %s\" % (grid_result.best_score_, grid_result.best_params_))\n",
    "means = grid_result.cv_results_['mean_test_score']\n",
    "stds = grid_result.cv_results_['std_test_score']\n",
    "params = grid_result.cv_results_['params']\n",
    "for mean, stdev, param in zip(means, stds, params):\n",
    "    print(\"%f (%f) with: %r\" % (mean, stdev, param))"
   ]
  },
  {
   "cell_type": "code",
   "execution_count": null,
   "id": "17f063a9",
   "metadata": {},
   "outputs": [],
   "source": [
    "knn = KNeighborsClassifier(n_neighbors=5,weights='distance',metric='manhattan')\n",
    "knn.fit(x_sm, y_sm)"
   ]
  },
  {
   "cell_type": "markdown",
   "id": "0cd6cae1",
   "metadata": {},
   "source": [
    "## 6)SVM"
   ]
  },
  {
   "cell_type": "code",
   "execution_count": null,
   "id": "9a482111",
   "metadata": {},
   "outputs": [],
   "source": [
    "model = SVC()\n",
    "kernel = ['poly', 'rbf', 'sigmoid']\n",
    "C = [50, 10, 1.0, 0.1, 0.01]\n",
    "gamma = ['scale']\n",
    "# define grid search\n",
    "grid = dict(kernel=kernel,C=C,gamma=gamma)\n",
    "cv = RepeatedStratifiedKFold(n_splits=10, n_repeats=3, random_state=1)\n",
    "grid_search = GridSearchCV(estimator=model, param_grid=grid, n_jobs=-1, cv=cv, scoring='accuracy',error_score=0)\n",
    "grid_result = grid_search.fit(x_sm, y_sm)\n",
    "# summarize results\n",
    "print(\"Best: %f using %s\" % (grid_result.best_score_, grid_result.best_params_))\n",
    "means = grid_result.cv_results_['mean_test_score']\n",
    "stds = grid_result.cv_results_['std_test_score']\n",
    "params = grid_result.cv_results_['params']\n",
    "for mean, stdev, param in zip(means, stds, params):\n",
    "    print(\"%f (%f) with: %r\" % (mean, stdev, param))"
   ]
  },
  {
   "cell_type": "code",
   "execution_count": null,
   "id": "51fed571",
   "metadata": {},
   "outputs": [],
   "source": [
    "SVM = SVC(C= 50, gamma='scale', kernel= 'poly')\n",
    "SVM.fit(x_sm, y_sm)"
   ]
  },
  {
   "cell_type": "markdown",
   "id": "ea3a622e",
   "metadata": {},
   "source": [
    "## 7)GradientBoosting"
   ]
  },
  {
   "cell_type": "code",
   "execution_count": null,
   "id": "f99c3e71",
   "metadata": {},
   "outputs": [],
   "source": [
    "# define models and parameters\n",
    "model = GradientBoostingClassifier()\n",
    "n_estimators = [10, 100]\n",
    "learning_rate = [0.01, 0.1]\n",
    "subsample = [0.5, 1.0]\n",
    "max_depth = [3, 7]\n",
    "# define grid search\n",
    "grid = dict(learning_rate=learning_rate, n_estimators=n_estimators, subsample=subsample, max_depth=max_depth)\n",
    "CV = RepeatedStratifiedKFold(n_splits=10, n_repeats=3, random_state=1)\n",
    "grid_search = GridSearchCV(estimator=model, param_grid=grid, n_jobs=-1, cv=CV, scoring='accuracy',error_score=0)\n",
    "grid_result = grid_search.fit(x_sm, y_sm)\n",
    "# summarize results\n",
    "print(\"Best: %f using %s\" % (grid_result.best_score_, grid_result.best_params_))\n",
    "means = grid_result.cv_results_['mean_test_score']\n",
    "stds = grid_result.cv_results_['std_test_score']\n",
    "params = grid_result.cv_results_['params']\n",
    "for mean, stdev, param in zip(means, stds, params):\n",
    "    print(\"%f (%f) with: %r\" % (mean, stdev, param))"
   ]
  },
  {
   "cell_type": "code",
   "execution_count": null,
   "id": "a5e14fa4",
   "metadata": {},
   "outputs": [],
   "source": [
    "gradrg=GradientBoostingClassifier(learning_rate = 0.1, max_depth = 7, n_estimators = 100, subsample = 0.5)\n",
    "gradrg.fit(x_sm, y_sm)"
   ]
  },
  {
   "cell_type": "markdown",
   "id": "d31de7d3",
   "metadata": {},
   "source": [
    "## 9)LDA"
   ]
  },
  {
   "cell_type": "code",
   "execution_count": null,
   "id": "5c02d0c2",
   "metadata": {},
   "outputs": [],
   "source": [
    "# define models and parameters\n",
    "model = LinearDiscriminantAnalysis()\n",
    "solver = ['svd', 'lsqr', 'eigen']\n",
    "shrinkage = ['auto','None']\n",
    "# define grid search\n",
    "grid = dict(solver=solver, shrinkage=shrinkage)\n",
    "CV = RepeatedStratifiedKFold(n_splits=10, n_repeats=3, random_state=1)\n",
    "grid_search = GridSearchCV(estimator=model, param_grid=grid, n_jobs=-1, cv=CV, scoring='accuracy',error_score=0)\n",
    "grid_result = grid_search.fit(x_sm, y_sm)\n",
    "# summarize results\n",
    "print(\"Best: %f using %s\" % (grid_result.best_score_, grid_result.best_params_))\n",
    "means = grid_result.cv_results_['mean_test_score']\n",
    "stds = grid_result.cv_results_['std_test_score']\n",
    "params = grid_result.cv_results_['params']\n",
    "for mean, stdev, param in zip(means, stds, params):\n",
    "    print(\"%f (%f) with: %r\" % (mean, stdev, param))"
   ]
  },
  {
   "cell_type": "code",
   "execution_count": null,
   "id": "a3ee1d74",
   "metadata": {},
   "outputs": [],
   "source": [
    "lda=LinearDiscriminantAnalysis(shrinkage = 'auto', solver = 'lsqr')\n",
    "lda.fit(x_sm, y_sm)"
   ]
  },
  {
   "cell_type": "code",
   "execution_count": null,
   "id": "9aed156b",
   "metadata": {},
   "outputs": [],
   "source": []
  },
  {
   "cell_type": "code",
   "execution_count": null,
   "id": "6bfc192e",
   "metadata": {},
   "outputs": [],
   "source": [
    "def get_performances(actual_Y, pred_Y):\n",
    "    cm = confusion_matrix(actual_Y, pred_Y.round())\n",
    "    total = sum(sum(cm))\n",
    "    accuracy = (cm[0,0]+cm[1,1])/total\n",
    "    sensitivity = cm[0,0]/(cm[0,0]+cm[0,1])\n",
    "    specificity = cm[1,1]/(cm[1,0]+cm[1,1])\n",
    "    return accuracy, sensitivity, specificity"
   ]
  },
  {
   "cell_type": "code",
   "execution_count": null,
   "id": "c636699e",
   "metadata": {},
   "outputs": [],
   "source": [
    "pred_Y_lr = lr.predict(x_test_new) # predicts the Y given the fitted model Logistic Regression\n",
    "pred_Y_rr = rr.predict(x_test_new) # predicts the Y given the fitted model Ridge Regression\n",
    "pred_Y_bag = bag.predict(x_test_new) # predicts the Y given the fitted model Bagging\n",
    "pred_Y_rf = rf.predict(x_test_new) # predicts the Y given the fitted model Random Forest\n",
    "pred_Y_knn = knn.predict(x_test_new) # predicts the Y given the fitted model KNN\n",
    "pred_Y_svm = SVM.predict(x_test_new) # predicts the Y given the fitted model Support Vector Machines\n",
    "pred_Y_gradrg = gradrg.predict(x_test_new) # predicts the Y given the fitted model Gradient Boosting\n",
    "pred_Y_lda = lda.predict(x_test_new) # predicts the Y given the fitted model LDA"
   ]
  },
  {
   "cell_type": "code",
   "execution_count": null,
   "id": "c50c054d",
   "metadata": {},
   "outputs": [],
   "source": [
    "# accuracy, sensitivity, and specificity for model Random Forest\n",
    "accuracy_lr, sensitivity_lr, specificity_lr = get_performances(y_test, pred_Y_lr)\n",
    "\n",
    "# accuracy, sensitivity, and specificity for model Random Forest\n",
    "accuracy_rr, sensitivity_rr, specificity_rr = get_performances(y_test, pred_Y_rr)\n",
    "\n",
    "# accuracy, sensitivity, and specificity for model Random Forest\n",
    "accuracy_bag, sensitivity_bag, specificity_bag = get_performances(y_test, pred_Y_bag)\n",
    "\n",
    "# accuracy, sensitivity, and specificity for model Random Forest\n",
    "accuracy_rf, sensitivity_rf, specificity_rf = get_performances(y_test, pred_Y_rf)\n",
    "\n",
    "# accuracy, sensitivity, and specificity for model KNN\n",
    "accuracy_knn, sensitivity_knn, specificity_knn = get_performances(y_test, pred_Y_knn)\n",
    "\n",
    "# accuracy, sensitivity, and specificity for model Support Vector Machines\n",
    "accuracy_svm, sensitivity_svm, specificity_svm = get_performances(y_test, pred_Y_svm)\n",
    "\n",
    "# accuracy, sensitivity, and specificity for model Gradient Boosting\n",
    "accuracy_gradrg, sensitivity_gradrg, specificity_gradrg = get_performances(y_test, pred_Y_gradrg)\n",
    "\n",
    "# accuracy, sensitivity, and specificity for model LDA\n",
    "accuracy_lda, sensitivity_lda, specificity_lda = get_performances(y_test, pred_Y_lda)"
   ]
  },
  {
   "cell_type": "code",
   "execution_count": null,
   "id": "d278ad4c",
   "metadata": {
    "scrolled": true
   },
   "outputs": [],
   "source": [
    "perf = pd.DataFrame([accuracy_lr,accuracy_rr,accuracy_bag,accuracy_rf,accuracy_knn,accuracy_svm,accuracy_gradrg,accuracy_lda], \n",
    "                    columns = ['Accuracy'], \n",
    "                    index = ['Logistic Regression','Ridge Regression','Bagging','Random Forest','KNN','Support Vector Machine','Gradient Boosting','LDA'])\n",
    "\n",
    "perf['Sensitivity'] = np.asarray([sensitivity_lr,sensitivity_rr,sensitivity_bag,sensitivity_rf,\n",
    "                                  sensitivity_knn,sensitivity_svm,sensitivity_gradrg,sensitivity_lda])\n",
    "\n",
    "perf['Specificity'] = np.asarray([specificity_lr,specificity_rr,specificity_bag,specificity_rf,\n",
    "                                  specificity_knn,specificity_svm,specificity_gradrg,specificity_lda])\n",
    "perf"
   ]
  },
  {
   "cell_type": "markdown",
   "id": "4a5cdbc0",
   "metadata": {},
   "source": [
    "# Without re-sampling (SMOTE)"
   ]
  },
  {
   "cell_type": "markdown",
   "id": "e9bcf098",
   "metadata": {},
   "source": [
    "## 1) Logistic"
   ]
  },
  {
   "cell_type": "code",
   "execution_count": null,
   "id": "d6d26f68",
   "metadata": {},
   "outputs": [],
   "source": [
    "lr = LogisticRegression(C=100,penalty='l2',solver='newton-cg')\n",
    "lr.fit(x_train_new,y_train)"
   ]
  },
  {
   "cell_type": "markdown",
   "id": "9f5da1ea",
   "metadata": {},
   "source": [
    "## 2) Ridge"
   ]
  },
  {
   "cell_type": "code",
   "execution_count": null,
   "id": "816ec923",
   "metadata": {},
   "outputs": [],
   "source": [
    "rr = RidgeClassifier(alpha=0.7)\n",
    "rr.fit(x_train_new,y_train)"
   ]
  },
  {
   "cell_type": "markdown",
   "id": "b3b1d20f",
   "metadata": {},
   "source": [
    "## 3)Bagging"
   ]
  },
  {
   "cell_type": "code",
   "execution_count": null,
   "id": "26095d3e",
   "metadata": {},
   "outputs": [],
   "source": [
    "bag = BaggingClassifier()\n",
    "bag.fit(x_train_new,y_train)"
   ]
  },
  {
   "cell_type": "markdown",
   "id": "e4d53764",
   "metadata": {},
   "source": [
    "## 4)Rndom Forest"
   ]
  },
  {
   "cell_type": "code",
   "execution_count": null,
   "id": "90838cc4",
   "metadata": {},
   "outputs": [],
   "source": [
    "rf = RandomForestClassifier(n_estimators=100, max_depth=5, random_state=0)\n",
    "rf.fit(x_train_new,y_train)"
   ]
  },
  {
   "cell_type": "markdown",
   "id": "64de80fa",
   "metadata": {},
   "source": [
    "## 5)KNN"
   ]
  },
  {
   "cell_type": "code",
   "execution_count": null,
   "id": "7677a5ab",
   "metadata": {},
   "outputs": [],
   "source": [
    "knn = KNeighborsClassifier(n_neighbors = 5)\n",
    "knn.fit(x_train_new,y_train)"
   ]
  },
  {
   "cell_type": "markdown",
   "id": "75c5afb1",
   "metadata": {},
   "source": [
    "## 6)SVM"
   ]
  },
  {
   "cell_type": "code",
   "execution_count": null,
   "id": "6bd577a3",
   "metadata": {},
   "outputs": [],
   "source": [
    "SVM = svm.LinearSVC()\n",
    "SVM.fit(x_train_new,y_train)"
   ]
  },
  {
   "cell_type": "markdown",
   "id": "f3aa2563",
   "metadata": {},
   "source": [
    "## 7)Gradient Boosting"
   ]
  },
  {
   "cell_type": "code",
   "execution_count": null,
   "id": "ab4bd2ae",
   "metadata": {},
   "outputs": [],
   "source": [
    "gradrg=GradientBoostingClassifier()\n",
    "gradrg.fit(x_train_new,y_train)"
   ]
  },
  {
   "cell_type": "markdown",
   "id": "aceb0647",
   "metadata": {},
   "source": [
    "## 8)LDA"
   ]
  },
  {
   "cell_type": "code",
   "execution_count": null,
   "id": "5cfe8869",
   "metadata": {},
   "outputs": [],
   "source": [
    "lda=LinearDiscriminantAnalysis()\n",
    "lda.fit(x_train_new,y_train)"
   ]
  },
  {
   "cell_type": "code",
   "execution_count": null,
   "id": "dacdc254",
   "metadata": {},
   "outputs": [],
   "source": []
  },
  {
   "cell_type": "code",
   "execution_count": null,
   "id": "243f5646",
   "metadata": {},
   "outputs": [],
   "source": [
    "def get_performances(actual_Y, pred_Y):\n",
    "    cm = confusion_matrix(actual_Y, pred_Y.round())\n",
    "    total = sum(sum(cm))\n",
    "    accuracy = (cm[0,0]+cm[1,1])/total\n",
    "    sensitivity = cm[0,0]/(cm[0,0]+cm[0,1])\n",
    "    specificity = cm[1,1]/(cm[1,0]+cm[1,1])\n",
    "    return accuracy, sensitivity, specificity"
   ]
  },
  {
   "cell_type": "code",
   "execution_count": null,
   "id": "3edd4f7e",
   "metadata": {},
   "outputs": [],
   "source": [
    "pred_Y_lr = lr.predict(x_test_new) # predicts the Y given the fitted model Logistic Regression\n",
    "pred_Y_rr = rr.predict(x_test_new) # predicts the Y given the fitted model Ridge Regression\n",
    "pred_Y_bag = bag.predict(x_test_new) # predicts the Y given the fitted model Bagging\n",
    "pred_Y_rf = rf.predict(x_test_new) # predicts the Y given the fitted model Random Forest\n",
    "pred_Y_knn = knn.predict(x_test_new) # predicts the Y given the fitted model KNN\n",
    "pred_Y_svm = SVM.predict(x_test_new) # predicts the Y given the fitted model Support Vector Machines\n",
    "pred_Y_gradrg = gradrg.predict(x_test_new) # predicts the Y given the fitted model Gradient Boosting\n",
    "pred_Y_lda = lda.predict(x_test_new) # predicts the Y given the fitted model LDA"
   ]
  },
  {
   "cell_type": "code",
   "execution_count": null,
   "id": "5611fd84",
   "metadata": {},
   "outputs": [],
   "source": [
    "# accuracy, sensitivity, and specificity for model Logistic Regression\n",
    "accuracy_lr, sensitivity_lr, specificity_lr = get_performances(y_test, pred_Y_lr)\n",
    "\n",
    "# accuracy, sensitivity, and specificity for model Random Ridge Regression\n",
    "accuracy_rr, sensitivity_rr, specificity_rr = get_performances(y_test, pred_Y_rr)\n",
    "\n",
    "# accuracy, sensitivity, and specificity for model Random Bagging\n",
    "accuracy_bag, sensitivity_bag, specificity_bag = get_performances(y_test, pred_Y_bag)\n",
    "\n",
    "# accuracy, sensitivity, and specificity for model Random Forest\n",
    "accuracy_rf, sensitivity_rf, specificity_rf = get_performances(y_test, pred_Y_rf)\n",
    "\n",
    "# accuracy, sensitivity, and specificity for model KNN\n",
    "accuracy_knn, sensitivity_knn, specificity_knn = get_performances(y_test, pred_Y_knn)\n",
    "\n",
    "# accuracy, sensitivity, and specificity for model Support Vector Machines\n",
    "accuracy_svm, sensitivity_svm, specificity_svm = get_performances(y_test, pred_Y_svm)\n",
    "\n",
    "# accuracy, sensitivity, and specificity for model Gradient Boosting\n",
    "accuracy_gradrg, sensitivity_gradrg, specificity_gradrg = get_performances(y_test, pred_Y_gradrg)\n",
    "\n",
    "# accuracy, sensitivity, and specificity for model LDA\n",
    "accuracy_lda, sensitivity_lda, specificity_lda = get_performances(y_test, pred_Y_lda)\n"
   ]
  },
  {
   "cell_type": "code",
   "execution_count": null,
   "id": "405f68b9",
   "metadata": {},
   "outputs": [],
   "source": [
    "perf = pd.DataFrame([accuracy_lr,accuracy_rr,accuracy_bag,accuracy_rf,accuracy_knn,accuracy_svm,accuracy_gradrg,accuracy_lda], \n",
    "                    columns = ['Accuracy'], \n",
    "                    index = ['Logistic Regression','Ridge Regression','Bagging','Random Forest','KNN','Support Vector Machine','Gradient Boosting','LDA'])\n",
    "\n",
    "perf['Sensitivity'] = np.asarray([sensitivity_lr,sensitivity_rr,sensitivity_bag,sensitivity_rf,\n",
    "                                  sensitivity_knn,sensitivity_svm,sensitivity_gradrg,sensitivity_lda])\n",
    "\n",
    "perf['Specificity'] = np.asarray([specificity_lr,specificity_rr,specificity_bag,specificity_rf,\n",
    "                                  specificity_knn,specificity_svm,specificity_gradrg,specificity_lda])\n",
    "perf"
   ]
  },
  {
   "cell_type": "markdown",
   "id": "4fa7c29b",
   "metadata": {},
   "source": [
    "# -----------------------------------------------------------------------------------------------------------"
   ]
  },
  {
   "cell_type": "markdown",
   "id": "af4791a2",
   "metadata": {},
   "source": [
    "# Random Under Sampling"
   ]
  },
  {
   "cell_type": "code",
   "execution_count": 106,
   "id": "f5760733",
   "metadata": {},
   "outputs": [],
   "source": [
    "# instantiating the random undersampler\n",
    "rus = RandomUnderSampler() \n",
    "# resampling X, y\n",
    "x_rus, y_rus = rus.fit_resample(x_train,y_train)"
   ]
  },
  {
   "cell_type": "markdown",
   "id": "e08ca3b4",
   "metadata": {},
   "source": [
    "## 1)Logistic"
   ]
  },
  {
   "cell_type": "code",
   "execution_count": null,
   "id": "64237779",
   "metadata": {},
   "outputs": [],
   "source": [
    "# define models and parameters\n",
    "model = LogisticRegression()\n",
    "solvers = ['newton-cg', 'lbfgs', 'liblinear']\n",
    "penalty = ['l2']\n",
    "c_values = [100, 10, 1.0, 0.1, 0.01]\n",
    "# define grid search\n",
    "grid = dict(solver=solvers,penalty=penalty,C=c_values)\n",
    "CV = RepeatedStratifiedKFold(n_splits=10, n_repeats=3, random_state=1)\n",
    "grid_search = GridSearchCV(estimator=model, param_grid=grid, n_jobs=-1, cv=CV, scoring='accuracy',error_score=0)\n",
    "grid_result = grid_search.fit(x_rus, y_rus)\n",
    "# summarize results\n",
    "print(\"Best: %f using %s\" % (grid_result.best_score_, grid_result.best_params_))\n",
    "means = grid_result.cv_results_['mean_test_score']\n",
    "stds = grid_result.cv_results_['std_test_score']\n",
    "params = grid_result.cv_results_['params']\n",
    "for mean, stdev, param in zip(means, stds, params):\n",
    "    print(\"%f (%f) with: %r\" % (mean, stdev, param))"
   ]
  },
  {
   "cell_type": "code",
   "execution_count": null,
   "id": "94379bb7",
   "metadata": {},
   "outputs": [],
   "source": [
    "lr = LogisticRegression(C=10,penalty='l2',solver='newton-cg',random_state=1)\n",
    "lr.fit(x_rus,y_rus)"
   ]
  },
  {
   "cell_type": "markdown",
   "id": "e9c36662",
   "metadata": {},
   "source": [
    "## 2)Ridge"
   ]
  },
  {
   "cell_type": "code",
   "execution_count": null,
   "id": "19d8eace",
   "metadata": {},
   "outputs": [],
   "source": [
    "params = {\"alpha\":[0.1,0.2,0.3,0.4,0.5,0.6,0.7,0.8,0.9,1]}\n",
    "model = RidgeClassifier()\n",
    "CV = KFold(n_splits=10,shuffle=True)"
   ]
  },
  {
   "cell_type": "code",
   "execution_count": null,
   "id": "af527a7e",
   "metadata": {},
   "outputs": [],
   "source": [
    "gsearch = GridSearchCV(model, params,cv=CV)"
   ]
  },
  {
   "cell_type": "code",
   "execution_count": null,
   "id": "6210c7cd",
   "metadata": {},
   "outputs": [],
   "source": [
    "results = gsearch.fit(x_rus,y_rus)"
   ]
  },
  {
   "cell_type": "code",
   "execution_count": null,
   "id": "4de45f57",
   "metadata": {},
   "outputs": [],
   "source": [
    "results.best_params_"
   ]
  },
  {
   "cell_type": "code",
   "execution_count": null,
   "id": "ee25b7ce",
   "metadata": {},
   "outputs": [],
   "source": [
    "rr = RidgeClassifier(alpha=0.6,random_state=1)\n",
    "rr.fit(x_rus, y_rus)"
   ]
  },
  {
   "cell_type": "markdown",
   "id": "9b1a0ec5",
   "metadata": {},
   "source": [
    "## 3)Bagging"
   ]
  },
  {
   "cell_type": "code",
   "execution_count": null,
   "id": "80b7b6e8",
   "metadata": {},
   "outputs": [],
   "source": [
    "# define models and parameters\n",
    "model = BaggingClassifier()\n",
    "n_estimators = [10, 100, 1000]\n",
    "# define grid search\n",
    "grid = dict(n_estimators=n_estimators)\n",
    "CV = RepeatedStratifiedKFold(n_splits=10, n_repeats=3, random_state=1)\n",
    "grid_search = GridSearchCV(estimator=model, param_grid=grid, n_jobs=-1, cv=CV, scoring='accuracy',error_score=0)\n",
    "grid_result = grid_search.fit(x_rus,y_rus)\n",
    "# summarize results\n",
    "print(\"Best: %f using %s\" % (grid_result.best_score_, grid_result.best_params_))\n",
    "means = grid_result.cv_results_['mean_test_score']\n",
    "stds = grid_result.cv_results_['std_test_score']\n",
    "params = grid_result.cv_results_['params']\n",
    "for mean, stdev, param in zip(means, stds, params):\n",
    "    print(\"%f (%f) with: %r\" % (mean, stdev, param))"
   ]
  },
  {
   "cell_type": "code",
   "execution_count": null,
   "id": "834c2f3a",
   "metadata": {},
   "outputs": [],
   "source": [
    "bag = BaggingClassifier(n_estimators = 100,random_state=1)\n",
    "bag.fit(x_rus, y_rus)"
   ]
  },
  {
   "cell_type": "markdown",
   "id": "0a4a771d",
   "metadata": {},
   "source": [
    "## 4)Random Forest"
   ]
  },
  {
   "cell_type": "code",
   "execution_count": null,
   "id": "980837ab",
   "metadata": {},
   "outputs": [],
   "source": [
    "# define models and parameters\n",
    "model = RandomForestClassifier()\n",
    "n_estimators = [10, 100]\n",
    "max_features = ['sqrt', 'log2']\n",
    "# define grid search\n",
    "grid = dict(n_estimators=n_estimators,max_features=max_features)\n",
    "cv = RepeatedStratifiedKFold(n_splits=10, n_repeats=3, random_state=1)\n",
    "grid_search = GridSearchCV(estimator=model, param_grid=grid, n_jobs=-1, cv=cv, scoring='accuracy',error_score=0)\n",
    "grid_result = grid_search.fit(x_rus, y_rus)\n",
    "# summarize results\n",
    "print(\"Best: %f using %s\" % (grid_result.best_score_, grid_result.best_params_))\n",
    "means = grid_result.cv_results_['mean_test_score']\n",
    "stds = grid_result.cv_results_['std_test_score']\n",
    "params = grid_result.cv_results_['params']\n",
    "for mean, stdev, param in zip(means, stds, params):\n",
    "    print(\"%f (%f) with: %r\" % (mean, stdev, param))"
   ]
  },
  {
   "cell_type": "code",
   "execution_count": null,
   "id": "751f8156",
   "metadata": {},
   "outputs": [],
   "source": [
    "rf = RandomForestClassifier(n_estimators=100, max_depth=5, max_features = 'log2',random_state=1)\n",
    "rf.fit(x_rus, y_rus)"
   ]
  },
  {
   "cell_type": "code",
   "execution_count": null,
   "id": "1f618d62",
   "metadata": {},
   "outputs": [],
   "source": [
    "pred_Y_rf = rf.predict(x_test_new)"
   ]
  },
  {
   "cell_type": "code",
   "execution_count": null,
   "id": "29dd1b30",
   "metadata": {},
   "outputs": [],
   "source": [
    "from sklearn.metrics import roc_curve\n",
    "from sklearn.metrics import auc\n",
    "fpr, tpr, thresholds = roc_curve(y_test, pred_Y_rf)\n",
    "a=auc(fpr,tpr)\n",
    "print(\"Area under the curve:\",a)"
   ]
  },
  {
   "cell_type": "code",
   "execution_count": null,
   "id": "ff83d3d9",
   "metadata": {},
   "outputs": [],
   "source": [
    "plt.figure()\n",
    "lw = 2\n",
    "plt.plot(fpr, tpr, color='darkorange',\n",
    "         lw=lw, label='ROC curve (area = %0.2f)' % a)\n",
    "plt.plot([0, 1], [0, 1], color='navy', lw=lw, linestyle='--')\n",
    "plt.xlim([0.0, 1.0])\n",
    "plt.ylim([0.0, 1.05])\n",
    "plt.xlabel('False Positive Rate')\n",
    "plt.ylabel('True Positive Rate')\n",
    "plt.title('Receiver operating characteristic example')\n",
    "plt.legend(loc=\"lower right\")\n",
    "plt.show()"
   ]
  },
  {
   "cell_type": "code",
   "execution_count": null,
   "id": "594c0701",
   "metadata": {},
   "outputs": [],
   "source": [
    "confusion_matrixrf = confusion_matrix(y_test, pred_Y_rf)\n",
    "print(confusion_matrixrf)"
   ]
  },
  {
   "cell_type": "markdown",
   "id": "7808d1be",
   "metadata": {},
   "source": [
    "## 5)KNN"
   ]
  },
  {
   "cell_type": "code",
   "execution_count": null,
   "id": "35b93a36",
   "metadata": {},
   "outputs": [],
   "source": [
    "# define models and parameters\n",
    "model = KNeighborsClassifier()\n",
    "n_neighbors = range(5)\n",
    "weights = ['uniform', 'distance']\n",
    "metric = ['euclidean', 'manhattan', 'minkowski']\n",
    "# define grid search\n",
    "grid = dict(n_neighbors=n_neighbors,weights=weights,metric=metric)\n",
    "CV = RepeatedStratifiedKFold(n_splits=10, n_repeats=3, random_state=1)\n",
    "grid_search = GridSearchCV(estimator=model, param_grid=grid, n_jobs=-1, cv=CV, scoring='accuracy',error_score=0)\n",
    "grid_result = grid_search.fit(x_rus, y_rus)\n",
    "# summarize results\n",
    "print(\"Best: %f using %s\" % (grid_result.best_score_, grid_result.best_params_))\n",
    "means = grid_result.cv_results_['mean_test_score']\n",
    "stds = grid_result.cv_results_['std_test_score']\n",
    "params = grid_result.cv_results_['params']\n",
    "for mean, stdev, param in zip(means, stds, params):\n",
    "    print(\"%f (%f) with: %r\" % (mean, stdev, param))"
   ]
  },
  {
   "cell_type": "code",
   "execution_count": null,
   "id": "22a69dfa",
   "metadata": {},
   "outputs": [],
   "source": [
    "knn = KNeighborsClassifier(metric = 'euclidean', n_neighbors = 4, weights = 'uniform')\n",
    "knn.fit(x_rus, y_rus)"
   ]
  },
  {
   "cell_type": "code",
   "execution_count": null,
   "id": "b490760e",
   "metadata": {},
   "outputs": [],
   "source": [
    "pred_Y_knn = knn.predict(x_test_new)"
   ]
  },
  {
   "cell_type": "code",
   "execution_count": null,
   "id": "0f16771e",
   "metadata": {},
   "outputs": [],
   "source": [
    "fpr, tpr, thresholds = roc_curve(y_test, pred_Y_knn)\n",
    "a=auc(fpr,tpr)\n",
    "print(\"Area under the curve:\",a)"
   ]
  },
  {
   "cell_type": "code",
   "execution_count": null,
   "id": "4e816f70",
   "metadata": {},
   "outputs": [],
   "source": [
    "plt.figure()\n",
    "lw = 2\n",
    "plt.plot(fpr, tpr, color='darkorange',\n",
    "         lw=lw, label='ROC curve (area = %0.2f)' % a)\n",
    "plt.plot([0, 1], [0, 1], color='navy', lw=lw, linestyle='--')\n",
    "plt.xlim([0.0, 1.0])\n",
    "plt.ylim([0.0, 1.05])\n",
    "plt.xlabel('False Positive Rate')\n",
    "plt.ylabel('True Positive Rate')\n",
    "plt.title('Receiver operating characteristic example')\n",
    "plt.legend(loc=\"lower right\")\n",
    "plt.show()"
   ]
  },
  {
   "cell_type": "code",
   "execution_count": null,
   "id": "d61ff5c2",
   "metadata": {},
   "outputs": [],
   "source": [
    "confusion_matrixknn = confusion_matrix(y_test, pred_Y_knn)\n",
    "print(confusion_matrixknn)"
   ]
  },
  {
   "cell_type": "markdown",
   "id": "f0c24281",
   "metadata": {},
   "source": [
    "## 6)SVM"
   ]
  },
  {
   "cell_type": "code",
   "execution_count": null,
   "id": "2cf510d2",
   "metadata": {},
   "outputs": [],
   "source": [
    "model = SVC()\n",
    "kernel = ['poly', 'rbf', 'sigmoid']\n",
    "C = [50, 10, 1.0]\n",
    "gamma = ['scale']\n",
    "# define grid search\n",
    "grid = dict(kernel=kernel,C=C,gamma=gamma)\n",
    "cv = RepeatedStratifiedKFold(n_splits=10, n_repeats=3, random_state=1)\n",
    "grid_search = GridSearchCV(estimator=model, param_grid=grid, n_jobs=-1, cv=cv, scoring='accuracy',error_score=0)\n",
    "grid_result = grid_search.fit(x_rus, y_rus)\n",
    "# summarize results\n",
    "print(\"Best: %f using %s\" % (grid_result.best_score_, grid_result.best_params_))\n",
    "means = grid_result.cv_results_['mean_test_score']\n",
    "stds = grid_result.cv_results_['std_test_score']\n",
    "params = grid_result.cv_results_['params']\n",
    "for mean, stdev, param in zip(means, stds, params):\n",
    "    print(\"%f (%f) with: %r\" % (mean, stdev, param))"
   ]
  },
  {
   "cell_type": "code",
   "execution_count": 107,
   "id": "2734709e",
   "metadata": {},
   "outputs": [
    {
     "data": {
      "text/plain": [
       "SVC(probability=True, random_state=1)"
      ]
     },
     "execution_count": 107,
     "metadata": {},
     "output_type": "execute_result"
    }
   ],
   "source": [
    "SVM = SVC(C= 1.0, gamma='scale', kernel= 'rbf',random_state=1)\n",
    "SVM.probability=True\n",
    "SVM.fit(x_rus, y_rus)"
   ]
  },
  {
   "cell_type": "markdown",
   "id": "f90c0d9f",
   "metadata": {},
   "source": [
    "### saving the model"
   ]
  },
  {
   "cell_type": "code",
   "execution_count": 108,
   "id": "dd5300f7",
   "metadata": {},
   "outputs": [],
   "source": [
    "import pickle"
   ]
  },
  {
   "cell_type": "code",
   "execution_count": null,
   "id": "b01da657",
   "metadata": {},
   "outputs": [],
   "source": [
    "#C:\\\\Users\\\\User\\\\Desktop\\\\Data Analysis 2\\\\"
   ]
  },
  {
   "cell_type": "code",
   "execution_count": 109,
   "id": "5952c20b",
   "metadata": {},
   "outputs": [],
   "source": [
    "filename = \"C:\\\\Users\\\\User\\\\Desktop\\\\Data Analysis 2\\\\finalized_model.ipynb\"\n",
    "pickle.dump(SVM, open(filename, 'wb'))"
   ]
  },
  {
   "cell_type": "markdown",
   "id": "adf0ceed",
   "metadata": {},
   "source": [
    "### loading the model"
   ]
  },
  {
   "cell_type": "code",
   "execution_count": 110,
   "id": "61c09a1f",
   "metadata": {},
   "outputs": [],
   "source": [
    "loaded_model=pickle.load(open(filename, 'rb'))"
   ]
  },
  {
   "cell_type": "code",
   "execution_count": 111,
   "id": "9989791a",
   "metadata": {},
   "outputs": [
    {
     "data": {
      "text/plain": [
       "array([0, 0, 1, ..., 0, 0, 1], dtype=int64)"
      ]
     },
     "execution_count": 111,
     "metadata": {},
     "output_type": "execute_result"
    }
   ],
   "source": [
    "loaded_model.predict(x_test)"
   ]
  },
  {
   "cell_type": "code",
   "execution_count": 112,
   "id": "fae92451",
   "metadata": {},
   "outputs": [
    {
     "data": {
      "text/plain": [
       "array([[0.59912396, 0.40087604],\n",
       "       [0.59744204, 0.40255796],\n",
       "       [0.47098167, 0.52901833],\n",
       "       ...,\n",
       "       [0.52185368, 0.47814632],\n",
       "       [0.60552156, 0.39447844],\n",
       "       [0.43310295, 0.56689705]])"
      ]
     },
     "execution_count": 112,
     "metadata": {},
     "output_type": "execute_result"
    }
   ],
   "source": [
    "loaded_model.predict_proba(x_test)"
   ]
  },
  {
   "cell_type": "markdown",
   "id": "dff3feb0",
   "metadata": {},
   "source": [
    "## 7)GradientBoosting"
   ]
  },
  {
   "cell_type": "code",
   "execution_count": null,
   "id": "475ab074",
   "metadata": {},
   "outputs": [],
   "source": [
    "# define models and parameters\n",
    "model = GradientBoostingClassifier()\n",
    "n_estimators = [10, 100]\n",
    "learning_rate = [0.01, 0.1]\n",
    "subsample = [0.5, 1.0]\n",
    "max_depth = [3, 7]\n",
    "# define grid search\n",
    "grid = dict(learning_rate=learning_rate, n_estimators=n_estimators, subsample=subsample, max_depth=max_depth)\n",
    "CV = RepeatedStratifiedKFold(n_splits=10, n_repeats=3, random_state=1)\n",
    "grid_search = GridSearchCV(estimator=model, param_grid=grid, n_jobs=-1, cv=CV, scoring='accuracy',error_score=0)\n",
    "grid_result = grid_search.fit(x_rus, y_rus)\n",
    "# summarize results\n",
    "print(\"Best: %f using %s\" % (grid_result.best_score_, grid_result.best_params_))\n",
    "means = grid_result.cv_results_['mean_test_score']\n",
    "stds = grid_result.cv_results_['std_test_score']\n",
    "params = grid_result.cv_results_['params']\n",
    "for mean, stdev, param in zip(means, stds, params):\n",
    "    print(\"%f (%f) with: %r\" % (mean, stdev, param))"
   ]
  },
  {
   "cell_type": "code",
   "execution_count": null,
   "id": "46fe9dce",
   "metadata": {},
   "outputs": [],
   "source": [
    "gradrg=GradientBoostingClassifier(learning_rate = 0.1, max_depth = 3, n_estimators = 100, subsample = 0.5,random_state=1)\n",
    "gradrg.fit(x_rus, y_rus)"
   ]
  },
  {
   "cell_type": "markdown",
   "id": "1b209b5d",
   "metadata": {},
   "source": [
    "## 8)LDA"
   ]
  },
  {
   "cell_type": "code",
   "execution_count": null,
   "id": "520ccfb4",
   "metadata": {},
   "outputs": [],
   "source": [
    "# define models and parameters\n",
    "model = LinearDiscriminantAnalysis()\n",
    "solver = ['svd', 'lsqr', 'eigen']\n",
    "shrinkage = ['auto','None']\n",
    "# define grid search\n",
    "grid = dict(solver=solver, shrinkage=shrinkage)\n",
    "CV = RepeatedStratifiedKFold(n_splits=10, n_repeats=3, random_state=1)\n",
    "grid_search = GridSearchCV(estimator=model, param_grid=grid, n_jobs=-1, cv=CV, scoring='accuracy',error_score=0)\n",
    "grid_result = grid_search.fit(x_rus, y_rus)\n",
    "# summarize results\n",
    "print(\"Best: %f using %s\" % (grid_result.best_score_, grid_result.best_params_))\n",
    "means = grid_result.cv_results_['mean_test_score']\n",
    "stds = grid_result.cv_results_['std_test_score']\n",
    "params = grid_result.cv_results_['params']\n",
    "for mean, stdev, param in zip(means, stds, params):\n",
    "    print(\"%f (%f) with: %r\" % (mean, stdev, param))"
   ]
  },
  {
   "cell_type": "code",
   "execution_count": null,
   "id": "de84cb38",
   "metadata": {},
   "outputs": [],
   "source": [
    "lda=LinearDiscriminantAnalysis(shrinkage = 'auto', solver = 'lsqr')\n",
    "lda.fit(x_rus,y_rus)"
   ]
  },
  {
   "cell_type": "code",
   "execution_count": null,
   "id": "585d6f9c",
   "metadata": {},
   "outputs": [],
   "source": []
  },
  {
   "cell_type": "code",
   "execution_count": null,
   "id": "b50350db",
   "metadata": {},
   "outputs": [],
   "source": [
    "def get_performances(actual_Y, pred_Y):\n",
    "    cm = confusion_matrix(actual_Y, pred_Y.round())\n",
    "    total = sum(sum(cm))\n",
    "    accuracy = (cm[0,0]+cm[1,1])/total\n",
    "    sensitivity = cm[0,0]/(cm[0,0]+cm[0,1])\n",
    "    specificity = cm[1,1]/(cm[1,0]+cm[1,1])\n",
    "    return accuracy, sensitivity, specificity"
   ]
  },
  {
   "cell_type": "code",
   "execution_count": null,
   "id": "8c4cfa72",
   "metadata": {},
   "outputs": [],
   "source": [
    "pred_Y_lr = lr.predict(x_test_new) # predicts the Y given the fitted model Logistic Regression\n",
    "pred_Y_rr = rr.predict(x_test_new) # predicts the Y given the fitted model Ridge Regression\n",
    "pred_Y_bag = bag.predict(x_test_new) # predicts the Y given the fitted model Bagging\n",
    "pred_Y_rf = rf.predict(x_test_new) # predicts the Y given the fitted model Random Forest\n",
    "pred_Y_knn = knn.predict(x_test_new) # predicts the Y given the fitted model KNN\n",
    "pred_Y_svm = SVM.predict(x_test_new) # predicts the Y given the fitted model Support Vector Machines\n",
    "pred_Y_gradrg = gradrg.predict(x_test_new) # predicts the Y given the fitted model Gradient Boosting\n",
    "pred_Y_lda = lda.predict(x_test_new) # predicts the Y given the fitted model LDA"
   ]
  },
  {
   "cell_type": "code",
   "execution_count": null,
   "id": "40db99d0",
   "metadata": {},
   "outputs": [],
   "source": [
    "# accuracy, sensitivity, and specificity for model Logistic Regression\n",
    "accuracy_lr, sensitivity_lr, specificity_lr = get_performances(y_test, pred_Y_lr)\n",
    "\n",
    "# accuracy, sensitivity, and specificity for model Random Ridge Regression\n",
    "accuracy_rr, sensitivity_rr, specificity_rr = get_performances(y_test, pred_Y_rr)\n",
    "\n",
    "# accuracy, sensitivity, and specificity for model Random Bagging\n",
    "accuracy_bag, sensitivity_bag, specificity_bag = get_performances(y_test, pred_Y_bag)\n",
    "\n",
    "# accuracy, sensitivity, and specificity for model Random Forest\n",
    "accuracy_rf, sensitivity_rf, specificity_rf = get_performances(y_test, pred_Y_rf)\n",
    "\n",
    "# accuracy, sensitivity, and specificity for model KNN\n",
    "accuracy_knn, sensitivity_knn, specificity_knn = get_performances(y_test, pred_Y_knn)\n",
    "\n",
    "# accuracy, sensitivity, and specificity for model Support Vector Machines\n",
    "accuracy_svm, sensitivity_svm, specificity_svm = get_performances(y_test, pred_Y_svm)\n",
    "\n",
    "# accuracy, sensitivity, and specificity for model Gradient Boosting\n",
    "accuracy_gradrg, sensitivity_gradrg, specificity_gradrg = get_performances(y_test, pred_Y_gradrg)\n",
    "\n",
    "# accuracy, sensitivity, and specificity for model LDA\n",
    "accuracy_lda, sensitivity_lda, specificity_lda = get_performances(y_test, pred_Y_lda)\n"
   ]
  },
  {
   "cell_type": "code",
   "execution_count": null,
   "id": "6145ec78",
   "metadata": {
    "scrolled": true
   },
   "outputs": [],
   "source": [
    "perf = pd.DataFrame([accuracy_lr,accuracy_rr,accuracy_bag,accuracy_rf,accuracy_knn,accuracy_svm,accuracy_gradrg,accuracy_lda], \n",
    "                    columns = ['Accuracy'], \n",
    "                    index = ['Logistic Regression','Ridge Regression','Bagging','Random Forest','KNN','Support Vector Machine','Gradient Boosting','LDA'])\n",
    "\n",
    "perf['Sensitivity'] = np.asarray([sensitivity_lr,sensitivity_rr,sensitivity_bag,sensitivity_rf,\n",
    "                                  sensitivity_knn,sensitivity_svm,sensitivity_gradrg,sensitivity_lda])\n",
    "\n",
    "perf['Specificity'] = np.asarray([specificity_lr,specificity_rr,specificity_bag,specificity_rf,\n",
    "                                  specificity_knn,specificity_svm,specificity_gradrg,specificity_lda])\n",
    "perf"
   ]
  },
  {
   "cell_type": "markdown",
   "id": "83da87bb",
   "metadata": {},
   "source": [
    "# -----------------------------------------------------------------------------------------------------------"
   ]
  },
  {
   "cell_type": "markdown",
   "id": "7aeb8dd1",
   "metadata": {},
   "source": [
    "# SMOTE + Under sampling"
   ]
  },
  {
   "cell_type": "code",
   "execution_count": null,
   "id": "ff6aa8d6",
   "metadata": {},
   "outputs": [],
   "source": [
    "from imblearn.pipeline import Pipeline\n",
    "# define pipeline\n",
    "over = SMOTE(sampling_strategy=0.6, random_state=42)\n",
    "under = RandomUnderSampler(sampling_strategy=0.9, random_state=42)\n",
    "steps = [('o', over), ('u', under)]\n",
    "pipeline = Pipeline(steps=steps)\n",
    "# transform the dataset\n",
    "x_smun, y_smun = pipeline.fit_resample(x_train_new,y_train)"
   ]
  },
  {
   "cell_type": "markdown",
   "id": "2aee2a80",
   "metadata": {},
   "source": [
    "## 1)Logistic"
   ]
  },
  {
   "cell_type": "code",
   "execution_count": null,
   "id": "3556baca",
   "metadata": {},
   "outputs": [],
   "source": [
    "# define models and parameters\n",
    "model = LogisticRegression()\n",
    "solvers = ['newton-cg', 'lbfgs', 'liblinear']\n",
    "penalty = ['l2']\n",
    "c_values = [100, 10, 1.0, 0.1, 0.01]\n",
    "# define grid search\n",
    "grid = dict(solver=solvers,penalty=penalty,C=c_values)\n",
    "CV = RepeatedStratifiedKFold(n_splits=10, n_repeats=3, random_state=1)\n",
    "grid_search = GridSearchCV(estimator=model, param_grid=grid, n_jobs=-1, cv=CV, scoring='accuracy',error_score=0)\n",
    "grid_result = grid_search.fit(x_smun, y_smun)\n",
    "# summarize results\n",
    "print(\"Best: %f using %s\" % (grid_result.best_score_, grid_result.best_params_))\n",
    "means = grid_result.cv_results_['mean_test_score']\n",
    "stds = grid_result.cv_results_['std_test_score']\n",
    "params = grid_result.cv_results_['params']\n",
    "for mean, stdev, param in zip(means, stds, params):\n",
    "    print(\"%f (%f) with: %r\" % (mean, stdev, param))"
   ]
  },
  {
   "cell_type": "code",
   "execution_count": null,
   "id": "440f73c4",
   "metadata": {},
   "outputs": [],
   "source": [
    "lr = LogisticRegression(C=10,penalty='l2',solver='liblinear')\n",
    "lr.fit(x_smun, y_smun)"
   ]
  },
  {
   "cell_type": "markdown",
   "id": "675a9411",
   "metadata": {},
   "source": [
    "## 2)Ridge"
   ]
  },
  {
   "cell_type": "code",
   "execution_count": null,
   "id": "07251a26",
   "metadata": {},
   "outputs": [],
   "source": [
    "params = {\"alpha\":[0.1,0.2,0.3,0.4,0.5,0.6,0.7,0.8,0.9,1]}\n",
    "model = RidgeClassifier()\n",
    "CV = KFold(n_splits=10,shuffle=True)"
   ]
  },
  {
   "cell_type": "code",
   "execution_count": null,
   "id": "67ef04d1",
   "metadata": {},
   "outputs": [],
   "source": [
    "gsearch = GridSearchCV(model, params,cv=CV)"
   ]
  },
  {
   "cell_type": "code",
   "execution_count": null,
   "id": "b4baf168",
   "metadata": {},
   "outputs": [],
   "source": [
    "results = gsearch.fit(x_smun, y_smun)"
   ]
  },
  {
   "cell_type": "code",
   "execution_count": null,
   "id": "5183586a",
   "metadata": {},
   "outputs": [],
   "source": [
    "results.best_params_"
   ]
  },
  {
   "cell_type": "code",
   "execution_count": null,
   "id": "69ee938a",
   "metadata": {},
   "outputs": [],
   "source": [
    "rr = RidgeClassifier(alpha=0.1)\n",
    "rr.fit(x_smun, y_smun)"
   ]
  },
  {
   "cell_type": "markdown",
   "id": "7d4348af",
   "metadata": {},
   "source": [
    "## 3)Bagging"
   ]
  },
  {
   "cell_type": "code",
   "execution_count": null,
   "id": "455a72ee",
   "metadata": {},
   "outputs": [],
   "source": [
    "# define models and parameters\n",
    "model = BaggingClassifier()\n",
    "n_estimators = [10, 100, 1000]\n",
    "# define grid search\n",
    "grid = dict(n_estimators=n_estimators)\n",
    "CV = RepeatedStratifiedKFold(n_splits=10, n_repeats=3, random_state=1)\n",
    "grid_search = GridSearchCV(estimator=model, param_grid=grid, n_jobs=-1, cv=CV, scoring='accuracy',error_score=0)\n",
    "grid_result = grid_search.fit(x_smun, y_smun)\n",
    "# summarize results\n",
    "print(\"Best: %f using %s\" % (grid_result.best_score_, grid_result.best_params_))\n",
    "means = grid_result.cv_results_['mean_test_score']\n",
    "stds = grid_result.cv_results_['std_test_score']\n",
    "params = grid_result.cv_results_['params']\n",
    "for mean, stdev, param in zip(means, stds, params):\n",
    "    print(\"%f (%f) with: %r\" % (mean, stdev, param))"
   ]
  },
  {
   "cell_type": "code",
   "execution_count": null,
   "id": "69fce157",
   "metadata": {},
   "outputs": [],
   "source": [
    "bag = BaggingClassifier(n_estimators = 100)\n",
    "bag.fit(x_smun, y_smun)"
   ]
  },
  {
   "cell_type": "markdown",
   "id": "2bdbda6e",
   "metadata": {},
   "source": [
    "## 4)Random Forest"
   ]
  },
  {
   "cell_type": "code",
   "execution_count": null,
   "id": "a426d322",
   "metadata": {},
   "outputs": [],
   "source": [
    "# define models and parameters\n",
    "model = RandomForestClassifier()\n",
    "n_estimators = [10, 100]\n",
    "max_features = ['sqrt', 'log2']\n",
    "# define grid search\n",
    "grid = dict(n_estimators=n_estimators,max_features=max_features)\n",
    "cv = RepeatedStratifiedKFold(n_splits=10, n_repeats=3, random_state=1)\n",
    "grid_search = GridSearchCV(estimator=model, param_grid=grid, n_jobs=-1, cv=cv, scoring='accuracy',error_score=0)\n",
    "grid_result = grid_search.fit(x_smun, y_smun)\n",
    "# summarize results\n",
    "print(\"Best: %f using %s\" % (grid_result.best_score_, grid_result.best_params_))\n",
    "means = grid_result.cv_results_['mean_test_score']\n",
    "stds = grid_result.cv_results_['std_test_score']\n",
    "params = grid_result.cv_results_['params']\n",
    "for mean, stdev, param in zip(means, stds, params):\n",
    "    print(\"%f (%f) with: %r\" % (mean, stdev, param))"
   ]
  },
  {
   "cell_type": "code",
   "execution_count": null,
   "id": "cba8f9e8",
   "metadata": {},
   "outputs": [],
   "source": [
    "rf = RandomForestClassifier(n_estimators=100, max_depth=5, max_features = 'log2')\n",
    "rf.fit(x_smun, y_smun)"
   ]
  },
  {
   "cell_type": "markdown",
   "id": "c4402972",
   "metadata": {},
   "source": [
    "## 5)KNN"
   ]
  },
  {
   "cell_type": "code",
   "execution_count": null,
   "id": "907f9fa2",
   "metadata": {},
   "outputs": [],
   "source": [
    "# define models and parameters\n",
    "model = KNeighborsClassifier()\n",
    "n_neighbors = range(5)\n",
    "weights = ['uniform', 'distance']\n",
    "metric = ['euclidean', 'manhattan', 'minkowski']\n",
    "# define grid search\n",
    "grid = dict(n_neighbors=n_neighbors,weights=weights,metric=metric)\n",
    "CV = RepeatedStratifiedKFold(n_splits=10, n_repeats=3, random_state=1)\n",
    "grid_search = GridSearchCV(estimator=model, param_grid=grid, n_jobs=-1, cv=CV, scoring='accuracy',error_score=0)\n",
    "grid_result = grid_search.fit(x_smun, y_smun)\n",
    "# summarize results\n",
    "print(\"Best: %f using %s\" % (grid_result.best_score_, grid_result.best_params_))\n",
    "means = grid_result.cv_results_['mean_test_score']\n",
    "stds = grid_result.cv_results_['std_test_score']\n",
    "params = grid_result.cv_results_['params']\n",
    "for mean, stdev, param in zip(means, stds, params):\n",
    "    print(\"%f (%f) with: %r\" % (mean, stdev, param))"
   ]
  },
  {
   "cell_type": "code",
   "execution_count": null,
   "id": "29092f6f",
   "metadata": {},
   "outputs": [],
   "source": [
    "knn = KNeighborsClassifier(metric = 'euclidean', n_neighbors = 4, weights = 'uniform')\n",
    "knn.fit(x_smun, y_smun)"
   ]
  },
  {
   "cell_type": "markdown",
   "id": "f0a081c9",
   "metadata": {},
   "source": [
    "## 6)SVM"
   ]
  },
  {
   "cell_type": "code",
   "execution_count": null,
   "id": "577ef2e3",
   "metadata": {},
   "outputs": [],
   "source": [
    "model = SVC()\n",
    "kernel = ['poly', 'rbf', 'sigmoid']\n",
    "C = [50, 10, 1.0]\n",
    "gamma = ['scale']\n",
    "# define grid search\n",
    "grid = dict(kernel=kernel,C=C,gamma=gamma)\n",
    "cv = RepeatedStratifiedKFold(n_splits=10, n_repeats=3, random_state=1)\n",
    "grid_search = GridSearchCV(estimator=model, param_grid=grid, n_jobs=-1, cv=cv, scoring='accuracy',error_score=0)\n",
    "grid_result = grid_search.fit(x_smun, y_smun)\n",
    "# summarize results\n",
    "print(\"Best: %f using %s\" % (grid_result.best_score_, grid_result.best_params_))\n",
    "means = grid_result.cv_results_['mean_test_score']\n",
    "stds = grid_result.cv_results_['std_test_score']\n",
    "params = grid_result.cv_results_['params']\n",
    "for mean, stdev, param in zip(means, stds, params):\n",
    "    print(\"%f (%f) with: %r\" % (mean, stdev, param))"
   ]
  },
  {
   "cell_type": "code",
   "execution_count": null,
   "id": "e21df71b",
   "metadata": {},
   "outputs": [],
   "source": [
    "SVM = SVC(C= 1.0, gamma='scale', kernel= 'rbf')\n",
    "SVM.fit(x_smun, y_smun)"
   ]
  },
  {
   "cell_type": "markdown",
   "id": "4ba9fee8",
   "metadata": {},
   "source": [
    "## 7)Gradient Boosting"
   ]
  },
  {
   "cell_type": "code",
   "execution_count": null,
   "id": "d992bdf4",
   "metadata": {},
   "outputs": [],
   "source": [
    "# define models and parameters\n",
    "model = GradientBoostingClassifier()\n",
    "n_estimators = [10, 100]\n",
    "learning_rate = [0.01, 0.1]\n",
    "subsample = [0.5, 1.0]\n",
    "max_depth = [3, 7]\n",
    "# define grid search\n",
    "grid = dict(learning_rate=learning_rate, n_estimators=n_estimators, subsample=subsample, max_depth=max_depth)\n",
    "CV = RepeatedStratifiedKFold(n_splits=10, n_repeats=3, random_state=1)\n",
    "grid_search = GridSearchCV(estimator=model, param_grid=grid, n_jobs=-1, cv=CV, scoring='accuracy',error_score=0)\n",
    "grid_result = grid_search.fit(x_smun, y_smun)\n",
    "# summarize results\n",
    "print(\"Best: %f using %s\" % (grid_result.best_score_, grid_result.best_params_))\n",
    "means = grid_result.cv_results_['mean_test_score']\n",
    "stds = grid_result.cv_results_['std_test_score']\n",
    "params = grid_result.cv_results_['params']\n",
    "for mean, stdev, param in zip(means, stds, params):\n",
    "    print(\"%f (%f) with: %r\" % (mean, stdev, param))"
   ]
  },
  {
   "cell_type": "code",
   "execution_count": null,
   "id": "bc495fde",
   "metadata": {},
   "outputs": [],
   "source": [
    "gradrg=GradientBoostingClassifier(learning_rate = 0.1, max_depth = 7, n_estimators = 100, subsample = 0.5)\n",
    "gradrg.fit(x_smun, y_smun)"
   ]
  },
  {
   "cell_type": "markdown",
   "id": "1f196e34",
   "metadata": {},
   "source": [
    "## 8)LDA"
   ]
  },
  {
   "cell_type": "code",
   "execution_count": null,
   "id": "620ed76c",
   "metadata": {},
   "outputs": [],
   "source": [
    "# define models and parameters\n",
    "model = LinearDiscriminantAnalysis()\n",
    "solver = ['svd', 'lsqr', 'eigen']\n",
    "shrinkage = ['auto','None']\n",
    "# define grid search\n",
    "grid = dict(solver=solver, shrinkage=shrinkage)\n",
    "CV = RepeatedStratifiedKFold(n_splits=10, n_repeats=3, random_state=1)\n",
    "grid_search = GridSearchCV(estimator=model, param_grid=grid, n_jobs=-1, cv=CV, scoring='accuracy',error_score=0)\n",
    "grid_result = grid_search.fit(x_smun, y_smun)\n",
    "# summarize results\n",
    "print(\"Best: %f using %s\" % (grid_result.best_score_, grid_result.best_params_))\n",
    "means = grid_result.cv_results_['mean_test_score']\n",
    "stds = grid_result.cv_results_['std_test_score']\n",
    "params = grid_result.cv_results_['params']\n",
    "for mean, stdev, param in zip(means, stds, params):\n",
    "    print(\"%f (%f) with: %r\" % (mean, stdev, param))"
   ]
  },
  {
   "cell_type": "code",
   "execution_count": null,
   "id": "6d60a24b",
   "metadata": {},
   "outputs": [],
   "source": [
    "lda=LinearDiscriminantAnalysis(shrinkage = 'auto', solver = 'lsqr')\n",
    "lda.fit(x_smun, y_smun)"
   ]
  },
  {
   "cell_type": "code",
   "execution_count": null,
   "id": "e355ffe6",
   "metadata": {},
   "outputs": [],
   "source": [
    "def get_performances(actual_Y, pred_Y):\n",
    "    cm = confusion_matrix(actual_Y, pred_Y.round())\n",
    "    total = sum(sum(cm))\n",
    "    accuracy = (cm[0,0]+cm[1,1])/total\n",
    "    sensitivity = cm[0,0]/(cm[0,0]+cm[0,1])\n",
    "    specificity = cm[1,1]/(cm[1,0]+cm[1,1])\n",
    "    return accuracy, sensitivity, specificity"
   ]
  },
  {
   "cell_type": "code",
   "execution_count": null,
   "id": "c430d688",
   "metadata": {},
   "outputs": [],
   "source": [
    "pred_Y_lr = lr.predict(x_test_new) # predicts the Y given the fitted model Logistic Regression\n",
    "pred_Y_rr = rr.predict(x_test_new) # predicts the Y given the fitted model Ridge Regression\n",
    "pred_Y_bag = bag.predict(x_test_new) # predicts the Y given the fitted model Bagging\n",
    "pred_Y_rf = rf.predict(x_test_new) # predicts the Y given the fitted model Random Forest\n",
    "pred_Y_knn = knn.predict(x_test_new) # predicts the Y given the fitted model KNN\n",
    "pred_Y_svm = SVM.predict(x_test_new) # predicts the Y given the fitted model Support Vector Machines\n",
    "pred_Y_gradrg = gradrg.predict(x_test_new) # predicts the Y given the fitted model Gradient Boosting\n",
    "pred_Y_lda = lda.predict(x_test_new) # predicts the Y given the fitted model LDA"
   ]
  },
  {
   "cell_type": "code",
   "execution_count": null,
   "id": "db71de35",
   "metadata": {},
   "outputs": [],
   "source": [
    "# accuracy, sensitivity, and specificity for model Logistic Regression\n",
    "accuracy_lr, sensitivity_lr, specificity_lr = get_performances(y_test, pred_Y_lr)\n",
    "\n",
    "# accuracy, sensitivity, and specificity for model Random Ridge Regression\n",
    "accuracy_rr, sensitivity_rr, specificity_rr = get_performances(y_test, pred_Y_rr)\n",
    "\n",
    "# accuracy, sensitivity, and specificity for model Random Bagging\n",
    "accuracy_bag, sensitivity_bag, specificity_bag = get_performances(y_test, pred_Y_bag)\n",
    "\n",
    "# accuracy, sensitivity, and specificity for model Random Forest\n",
    "accuracy_rf, sensitivity_rf, specificity_rf = get_performances(y_test, pred_Y_rf)\n",
    "\n",
    "# accuracy, sensitivity, and specificity for model KNN\n",
    "accuracy_knn, sensitivity_knn, specificity_knn = get_performances(y_test, pred_Y_knn)\n",
    "\n",
    "# accuracy, sensitivity, and specificity for model Support Vector Machines\n",
    "accuracy_svm, sensitivity_svm, specificity_svm = get_performances(y_test, pred_Y_svm)\n",
    "\n",
    "# accuracy, sensitivity, and specificity for model Gradient Boosting\n",
    "accuracy_gradrg, sensitivity_gradrg, specificity_gradrg = get_performances(y_test, pred_Y_gradrg)\n",
    "\n",
    "# accuracy, sensitivity, and specificity for model LDA\n",
    "accuracy_lda, sensitivity_lda, specificity_lda = get_performances(y_test, pred_Y_lda)"
   ]
  },
  {
   "cell_type": "code",
   "execution_count": null,
   "id": "4828f13c",
   "metadata": {},
   "outputs": [],
   "source": [
    "perf = pd.DataFrame([accuracy_lr,accuracy_rr,accuracy_bag,accuracy_rf,accuracy_knn,accuracy_svm,accuracy_gradrg,accuracy_lda], \n",
    "                    columns = ['Accuracy'], \n",
    "                    index = ['Logistic Regression','Ridge Regression','Bagging','Random Forest','KNN','Support Vector Machine','Gradient Boosting','LDA'])\n",
    "\n",
    "perf['Sensitivity'] = np.asarray([sensitivity_lr,sensitivity_rr,sensitivity_bag,sensitivity_rf,\n",
    "                                  sensitivity_knn,sensitivity_svm,sensitivity_gradrg,sensitivity_lda])\n",
    "\n",
    "perf['Specificity'] = np.asarray([specificity_lr,specificity_rr,specificity_bag,specificity_rf,\n",
    "                                  specificity_knn,specificity_svm,specificity_gradrg,specificity_lda])\n",
    "perf"
   ]
  }
 ],
 "metadata": {
  "kernelspec": {
   "display_name": "Python 3",
   "language": "python",
   "name": "python3"
  },
  "language_info": {
   "codemirror_mode": {
    "name": "ipython",
    "version": 3
   },
   "file_extension": ".py",
   "mimetype": "text/x-python",
   "name": "python",
   "nbconvert_exporter": "python",
   "pygments_lexer": "ipython3",
   "version": "3.8.8"
  }
 },
 "nbformat": 4,
 "nbformat_minor": 5
}
